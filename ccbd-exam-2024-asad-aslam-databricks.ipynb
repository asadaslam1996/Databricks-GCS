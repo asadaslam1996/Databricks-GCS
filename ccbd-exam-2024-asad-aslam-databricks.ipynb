{
 "cells": [
  {
   "cell_type": "markdown",
   "metadata": {
    "application/vnd.databricks.v1+cell": {
     "cellMetadata": {},
     "inputWidgets": {},
     "nuid": "dfb35904-64de-40be-92d2-240d210d2ff0",
     "showTitle": false,
     "title": ""
    }
   },
   "source": [
    "###Setting up Libraries"
   ]
  },
  {
   "cell_type": "code",
   "execution_count": 0,
   "metadata": {
    "application/vnd.databricks.v1+cell": {
     "cellMetadata": {
      "byteLimit": 2048000,
      "rowLimit": 10000
     },
     "inputWidgets": {},
     "nuid": "ac2d5565-b6e2-48fc-b74c-d67e531379a7",
     "showTitle": false,
     "title": ""
    }
   },
   "outputs": [
    {
     "output_type": "stream",
     "name": "stdout",
     "output_type": "stream",
     "text": [
      "Python interpreter will be restarted.\nCollecting google-cloud-storage\n  Downloading google_cloud_storage-2.17.0-py2.py3-none-any.whl (126 kB)\nCollecting google-resumable-media>=2.6.0\n  Downloading google_resumable_media-2.7.1-py2.py3-none-any.whl (81 kB)\nRequirement already satisfied: requests<3.0.0dev,>=2.18.0 in /databricks/python3/lib/python3.9/site-packages (from google-cloud-storage) (2.27.1)\nCollecting google-cloud-core<3.0dev,>=2.3.0\n  Downloading google_cloud_core-2.4.1-py2.py3-none-any.whl (29 kB)\nCollecting google-auth<3.0dev,>=2.26.1\n  Downloading google_auth-2.30.0-py2.py3-none-any.whl (193 kB)\nCollecting google-crc32c<2.0dev,>=1.0\n  Downloading google_crc32c-1.5.0-cp39-cp39-manylinux_2_17_x86_64.manylinux2014_x86_64.whl (32 kB)\nCollecting google-api-core<3.0.0dev,>=2.15.0\n  Downloading google_api_core-2.19.0-py3-none-any.whl (139 kB)\nCollecting googleapis-common-protos<2.0.dev0,>=1.56.2\n  Downloading googleapis_common_protos-1.63.1-py2.py3-none-any.whl (229 kB)\nCollecting proto-plus<2.0.0dev,>=1.22.3\n  Downloading proto_plus-1.24.0-py3-none-any.whl (50 kB)\nCollecting protobuf!=3.20.0,!=3.20.1,!=4.21.0,!=4.21.1,!=4.21.2,!=4.21.3,!=4.21.4,!=4.21.5,<5.0.0.dev0,>=3.19.5\n  Downloading protobuf-4.25.3-cp37-abi3-manylinux2014_x86_64.whl (294 kB)\nCollecting rsa<5,>=3.1.4\n  Downloading rsa-4.9-py3-none-any.whl (34 kB)\nCollecting cachetools<6.0,>=2.0.0\n  Downloading cachetools-5.3.3-py3-none-any.whl (9.3 kB)\nCollecting pyasn1-modules>=0.2.1\n  Downloading pyasn1_modules-0.4.0-py3-none-any.whl (181 kB)\nCollecting pyasn1<0.7.0,>=0.4.6\n  Downloading pyasn1-0.6.0-py2.py3-none-any.whl (85 kB)\nRequirement already satisfied: idna<4,>=2.5 in /databricks/python3/lib/python3.9/site-packages (from requests<3.0.0dev,>=2.18.0->google-cloud-storage) (3.3)\nRequirement already satisfied: charset-normalizer~=2.0.0 in /databricks/python3/lib/python3.9/site-packages (from requests<3.0.0dev,>=2.18.0->google-cloud-storage) (2.0.4)\nRequirement already satisfied: urllib3<1.27,>=1.21.1 in /databricks/python3/lib/python3.9/site-packages (from requests<3.0.0dev,>=2.18.0->google-cloud-storage) (1.26.9)\nRequirement already satisfied: certifi>=2017.4.17 in /databricks/python3/lib/python3.9/site-packages (from requests<3.0.0dev,>=2.18.0->google-cloud-storage) (2021.10.8)\nInstalling collected packages: pyasn1, rsa, pyasn1-modules, protobuf, cachetools, proto-plus, googleapis-common-protos, google-auth, google-crc32c, google-api-core, google-resumable-media, google-cloud-core, google-cloud-storage\n  Attempting uninstall: protobuf\n    Found existing installation: protobuf 3.19.4\n    Not uninstalling protobuf at /databricks/python3/lib/python3.9/site-packages, outside environment /local_disk0/.ephemeral_nfs/envs/pythonEnv-978b9be8-0ec5-4343-8e4d-5f194c072931\n    Can't uninstall 'protobuf'. No files were found to uninstall.\nSuccessfully installed cachetools-5.3.3 google-api-core-2.19.0 google-auth-2.30.0 google-cloud-core-2.4.1 google-cloud-storage-2.17.0 google-crc32c-1.5.0 google-resumable-media-2.7.1 googleapis-common-protos-1.63.1 proto-plus-1.24.0 protobuf-4.25.3 pyasn1-0.6.0 pyasn1-modules-0.4.0 rsa-4.9\nPython interpreter will be restarted.\nPython interpreter will be restarted.\nCollecting google-cloud-bigquery\n  Downloading google_cloud_bigquery-3.25.0-py2.py3-none-any.whl (239 kB)\nRequirement already satisfied: python-dateutil<3.0dev,>=2.7.2 in /databricks/python3/lib/python3.9/site-packages (from google-cloud-bigquery) (2.8.2)\nRequirement already satisfied: google-resumable-media<3.0dev,>=0.6.0 in /local_disk0/.ephemeral_nfs/envs/pythonEnv-978b9be8-0ec5-4343-8e4d-5f194c072931/lib/python3.9/site-packages (from google-cloud-bigquery) (2.7.1)\nRequirement already satisfied: google-auth<3.0.0dev,>=2.14.1 in /local_disk0/.ephemeral_nfs/envs/pythonEnv-978b9be8-0ec5-4343-8e4d-5f194c072931/lib/python3.9/site-packages (from google-cloud-bigquery) (2.30.0)\nRequirement already satisfied: packaging>=20.0.0 in /databricks/python3/lib/python3.9/site-packages (from google-cloud-bigquery) (21.3)\nRequirement already satisfied: requests<3.0.0dev,>=2.21.0 in /databricks/python3/lib/python3.9/site-packages (from google-cloud-bigquery) (2.27.1)\nRequirement already satisfied: google-cloud-core<3.0.0dev,>=1.6.0 in /local_disk0/.ephemeral_nfs/envs/pythonEnv-978b9be8-0ec5-4343-8e4d-5f194c072931/lib/python3.9/site-packages (from google-cloud-bigquery) (2.4.1)\nRequirement already satisfied: google-api-core[grpc]!=2.0.*,!=2.1.*,!=2.10.*,!=2.2.*,!=2.3.*,!=2.4.*,!=2.5.*,!=2.6.*,!=2.7.*,!=2.8.*,!=2.9.*,<3.0.0dev,>=1.34.1 in /local_disk0/.ephemeral_nfs/envs/pythonEnv-978b9be8-0ec5-4343-8e4d-5f194c072931/lib/python3.9/site-packages (from google-cloud-bigquery) (2.19.0)\nRequirement already satisfied: googleapis-common-protos<2.0.dev0,>=1.56.2 in /local_disk0/.ephemeral_nfs/envs/pythonEnv-978b9be8-0ec5-4343-8e4d-5f194c072931/lib/python3.9/site-packages (from google-api-core[grpc]!=2.0.*,!=2.1.*,!=2.10.*,!=2.2.*,!=2.3.*,!=2.4.*,!=2.5.*,!=2.6.*,!=2.7.*,!=2.8.*,!=2.9.*,<3.0.0dev,>=1.34.1->google-cloud-bigquery) (1.63.1)\nRequirement already satisfied: proto-plus<2.0.0dev,>=1.22.3 in /local_disk0/.ephemeral_nfs/envs/pythonEnv-978b9be8-0ec5-4343-8e4d-5f194c072931/lib/python3.9/site-packages (from google-api-core[grpc]!=2.0.*,!=2.1.*,!=2.10.*,!=2.2.*,!=2.3.*,!=2.4.*,!=2.5.*,!=2.6.*,!=2.7.*,!=2.8.*,!=2.9.*,<3.0.0dev,>=1.34.1->google-cloud-bigquery) (1.24.0)\nRequirement already satisfied: protobuf!=3.20.0,!=3.20.1,!=4.21.0,!=4.21.1,!=4.21.2,!=4.21.3,!=4.21.4,!=4.21.5,<5.0.0.dev0,>=3.19.5 in /local_disk0/.ephemeral_nfs/envs/pythonEnv-978b9be8-0ec5-4343-8e4d-5f194c072931/lib/python3.9/site-packages (from google-api-core[grpc]!=2.0.*,!=2.1.*,!=2.10.*,!=2.2.*,!=2.3.*,!=2.4.*,!=2.5.*,!=2.6.*,!=2.7.*,!=2.8.*,!=2.9.*,<3.0.0dev,>=1.34.1->google-cloud-bigquery) (4.25.3)\nCollecting grpcio-status<2.0.dev0,>=1.33.2\n  Downloading grpcio_status-1.64.1-py3-none-any.whl (14 kB)\nCollecting grpcio<2.0dev,>=1.33.2\n  Downloading grpcio-1.64.1-cp39-cp39-manylinux_2_17_x86_64.manylinux2014_x86_64.whl (5.6 MB)\nRequirement already satisfied: rsa<5,>=3.1.4 in /local_disk0/.ephemeral_nfs/envs/pythonEnv-978b9be8-0ec5-4343-8e4d-5f194c072931/lib/python3.9/site-packages (from google-auth<3.0.0dev,>=2.14.1->google-cloud-bigquery) (4.9)\nRequirement already satisfied: cachetools<6.0,>=2.0.0 in /local_disk0/.ephemeral_nfs/envs/pythonEnv-978b9be8-0ec5-4343-8e4d-5f194c072931/lib/python3.9/site-packages (from google-auth<3.0.0dev,>=2.14.1->google-cloud-bigquery) (5.3.3)\nRequirement already satisfied: pyasn1-modules>=0.2.1 in /local_disk0/.ephemeral_nfs/envs/pythonEnv-978b9be8-0ec5-4343-8e4d-5f194c072931/lib/python3.9/site-packages (from google-auth<3.0.0dev,>=2.14.1->google-cloud-bigquery) (0.4.0)\nRequirement already satisfied: google-crc32c<2.0dev,>=1.0 in /local_disk0/.ephemeral_nfs/envs/pythonEnv-978b9be8-0ec5-4343-8e4d-5f194c072931/lib/python3.9/site-packages (from google-resumable-media<3.0dev,>=0.6.0->google-cloud-bigquery) (1.5.0)\nCollecting grpcio-status<2.0.dev0,>=1.33.2\n  Downloading grpcio_status-1.64.0-py3-none-any.whl (14 kB)\n  Downloading grpcio_status-1.63.0-py3-none-any.whl (14 kB)\n  Downloading grpcio_status-1.62.2-py3-none-any.whl (14 kB)\nRequirement already satisfied: pyparsing!=3.0.5,>=2.0.2 in /databricks/python3/lib/python3.9/site-packages (from packaging>=20.0.0->google-cloud-bigquery) (3.0.4)\nRequirement already satisfied: pyasn1<0.7.0,>=0.4.6 in /local_disk0/.ephemeral_nfs/envs/pythonEnv-978b9be8-0ec5-4343-8e4d-5f194c072931/lib/python3.9/site-packages (from pyasn1-modules>=0.2.1->google-auth<3.0.0dev,>=2.14.1->google-cloud-bigquery) (0.6.0)\nRequirement already satisfied: six>=1.5 in /databricks/python3/lib/python3.9/site-packages (from python-dateutil<3.0dev,>=2.7.2->google-cloud-bigquery) (1.16.0)\nRequirement already satisfied: idna<4,>=2.5 in /databricks/python3/lib/python3.9/site-packages (from requests<3.0.0dev,>=2.21.0->google-cloud-bigquery) (3.3)\nRequirement already satisfied: charset-normalizer~=2.0.0 in /databricks/python3/lib/python3.9/site-packages (from requests<3.0.0dev,>=2.21.0->google-cloud-bigquery) (2.0.4)\nRequirement already satisfied: urllib3<1.27,>=1.21.1 in /databricks/python3/lib/python3.9/site-packages (from requests<3.0.0dev,>=2.21.0->google-cloud-bigquery) (1.26.9)\nRequirement already satisfied: certifi>=2017.4.17 in /databricks/python3/lib/python3.9/site-packages (from requests<3.0.0dev,>=2.21.0->google-cloud-bigquery) (2021.10.8)\nInstalling collected packages: grpcio, grpcio-status, google-cloud-bigquery\nSuccessfully installed google-cloud-bigquery-3.25.0 grpcio-1.64.1 grpcio-status-1.62.2\nPython interpreter will be restarted.\nPython interpreter will be restarted.\nCollecting db-dtypes\n  Downloading db_dtypes-1.2.0-py2.py3-none-any.whl (14 kB)\nRequirement already satisfied: pandas>=0.24.2 in /databricks/python3/lib/python3.9/site-packages (from db-dtypes) (1.4.2)\nRequirement already satisfied: pyarrow>=3.0.0 in /databricks/python3/lib/python3.9/site-packages (from db-dtypes) (7.0.0)\nRequirement already satisfied: packaging>=17.0 in /databricks/python3/lib/python3.9/site-packages (from db-dtypes) (21.3)\nRequirement already satisfied: numpy>=1.16.6 in /databricks/python3/lib/python3.9/site-packages (from db-dtypes) (1.21.5)\nRequirement already satisfied: pyparsing!=3.0.5,>=2.0.2 in /databricks/python3/lib/python3.9/site-packages (from packaging>=17.0->db-dtypes) (3.0.4)\nRequirement already satisfied: python-dateutil>=2.8.1 in /databricks/python3/lib/python3.9/site-packages (from pandas>=0.24.2->db-dtypes) (2.8.2)\nRequirement already satisfied: pytz>=2020.1 in /databricks/python3/lib/python3.9/site-packages (from pandas>=0.24.2->db-dtypes) (2021.3)\nRequirement already satisfied: six>=1.5 in /databricks/python3/lib/python3.9/site-packages (from python-dateutil>=2.8.1->pandas>=0.24.2->db-dtypes) (1.16.0)\nInstalling collected packages: db-dtypes\nSuccessfully installed db-dtypes-1.2.0\nPython interpreter will be restarted.\n"
     ]
    }
   ],
   "source": [
    "%pip install google-cloud-storage\n",
    "%pip install google-cloud-bigquery  \n",
    "%pip install db-dtypes"
   ]
  },
  {
   "cell_type": "code",
   "execution_count": 0,
   "metadata": {
    "application/vnd.databricks.v1+cell": {
     "cellMetadata": {
      "byteLimit": 2048000,
      "rowLimit": 10000
     },
     "inputWidgets": {},
     "nuid": "7dcd6085-7ac8-4f92-aa92-15cf64cca8f7",
     "showTitle": false,
     "title": ""
    }
   },
   "outputs": [
    {
     "output_type": "stream",
     "name": "stdout",
     "output_type": "stream",
     "text": [
      "google-cloud-bigquery             3.25.0\n"
     ]
    }
   ],
   "source": [
    "%pip list | grep google-cloud-bigquery"
   ]
  },
  {
   "cell_type": "code",
   "execution_count": 0,
   "metadata": {
    "application/vnd.databricks.v1+cell": {
     "cellMetadata": {
      "byteLimit": 2048000,
      "rowLimit": 10000
     },
     "inputWidgets": {},
     "nuid": "03e43c00-85ca-4a88-ae0a-f75f8b2896c4",
     "showTitle": false,
     "title": ""
    }
   },
   "outputs": [],
   "source": [
    "from google.cloud import storage\n",
    "import os\n",
    "from pyspark.sql import SparkSession\n",
    "import json\n",
    "from pyspark.sql import SparkSession\n",
    "from pyspark.sql.functions import col\n",
    "import numpy as np\n",
    "import matplotlib.pyplot as plt\n",
    "import seaborn as sns\n"
   ]
  },
  {
   "cell_type": "markdown",
   "metadata": {
    "application/vnd.databricks.v1+cell": {
     "cellMetadata": {},
     "inputWidgets": {},
     "nuid": "2a7db796-ce4d-4f11-bfcf-642907f984b9",
     "showTitle": false,
     "title": ""
    }
   },
   "source": [
    "###Connecting Google Cloud Storage with Databricks"
   ]
  },
  {
   "cell_type": "code",
   "execution_count": 0,
   "metadata": {
    "application/vnd.databricks.v1+cell": {
     "cellMetadata": {
      "byteLimit": 2048000,
      "rowLimit": 10000
     },
     "inputWidgets": {},
     "nuid": "b6f1864d-e2d3-4e1f-8319-72238459f78b",
     "showTitle": false,
     "title": ""
    }
   },
   "outputs": [],
   "source": [
    "# Copy the JSON key file from DBFS to the /tmp directory on the local filesystem of the driver node\n",
    "dbutils.fs.cp(\"dbfs:/FileStore/shared_uploads/aslam1996asad@gmail.com/ccbd_exam_2024_asad_aslam_279ee9138000-2.json\", \"file:/tmp/ccbd_exam_2024_asad_aslam_279ee9138000-2.json\")\n",
    "\n",
    "# Set the environment variable for authentication\n",
    "os.environ[\"GOOGLE_APPLICATION_CREDENTIALS\"] = \"/tmp/ccbd_exam_2024_asad_aslam_279ee9138000-2.json\"\n"
   ]
  },
  {
   "cell_type": "code",
   "execution_count": 0,
   "metadata": {
    "application/vnd.databricks.v1+cell": {
     "cellMetadata": {
      "byteLimit": 2048000,
      "rowLimit": 10000
     },
     "inputWidgets": {},
     "nuid": "9c0159c6-8581-44c1-859e-4ed7094e23ee",
     "showTitle": false,
     "title": ""
    }
   },
   "outputs": [],
   "source": [
    "# Initialize the Google Cloud Storage client\n",
    "client = storage.Client()"
   ]
  },
  {
   "cell_type": "code",
   "execution_count": 0,
   "metadata": {
    "application/vnd.databricks.v1+cell": {
     "cellMetadata": {
      "byteLimit": 2048000,
      "rowLimit": 10000
     },
     "inputWidgets": {},
     "nuid": "74d64abc-77ba-4802-b487-d83d61a90581",
     "showTitle": false,
     "title": ""
    }
   },
   "outputs": [
    {
     "output_type": "stream",
     "name": "stdout",
     "output_type": "stream",
     "text": [
      "dataset.csv\nqueries/query1.csv\nqueries/query2.csv\nqueries/query3.csv\nqueries/query4.csv\nqueries/query5.csv\nDownloaded dataset.csv to /tmp/dataset_Databricks.csv.\nCopied /tmp/dataset_Databricks.csv to dbfs:/FileStore/shared_uploads/aslam1996asad@gmail.com/dataset_Databricks.csv.\n"
     ]
    }
   ],
   "source": [
    "# Define your GCS bucket and file details\n",
    "source_blob_name = 'dataset.csv'\n",
    "local_temp_file = '/tmp/dataset_Databricks.csv'\n",
    "destination_file_name = 'dbfs:/FileStore/shared_uploads/aslam1996asad@gmail.com/dataset_Databricks.csv'\n",
    "\n",
    "bucket_name = 'ccbd-exam-2023-asad-aslam'\n",
    "bucket = client.get_bucket(bucket_name)\n",
    "\n",
    "# List objects in the bucket\n",
    "blobs = bucket.list_blobs()\n",
    "for blob in blobs:\n",
    "    print(blob.name)\n",
    "\n",
    "# Download the file from GCS to local filesystem\n",
    "blob = bucket.blob(source_blob_name)\n",
    "blob.download_to_filename(local_temp_file)\n",
    "\n",
    "print(f\"Downloaded {source_blob_name} to {local_temp_file}.\")\n",
    "\n",
    "# Copy the file from the local filesystem to DBFS\n",
    "dbutils.fs.cp(f\"file:{local_temp_file}\", destination_file_name)\n",
    "\n",
    "print(f\"Copied {local_temp_file} to {destination_file_name}.\")"
   ]
  },
  {
   "cell_type": "markdown",
   "metadata": {
    "application/vnd.databricks.v1+cell": {
     "cellMetadata": {},
     "inputWidgets": {},
     "nuid": "011c4317-10d9-45c2-83f1-048c41a50e5a",
     "showTitle": false,
     "title": ""
    }
   },
   "source": [
    "###Reading CSV file"
   ]
  },
  {
   "cell_type": "code",
   "execution_count": 0,
   "metadata": {
    "application/vnd.databricks.v1+cell": {
     "cellMetadata": {
      "byteLimit": 2048000,
      "rowLimit": 10000
     },
     "inputWidgets": {},
     "nuid": "f5a0e2e2-8e14-48f6-83fe-38e5f6109c1d",
     "showTitle": false,
     "title": ""
    }
   },
   "outputs": [
    {
     "output_type": "stream",
     "name": "stdout",
     "output_type": "stream",
     "text": [
      "+-------+------+-------+------------+----------+-----+-----+----------+------------+----------+--------------+------------+------------------+------------------+--------------------+--------------------+--------------------+-----------------+--------------------+------+\n|     ID|Gender|Own_car|Own_property|Work_phone|Phone|Email|Unemployed|Num_children|Num_family|Account_length|Total_income|               Age|    Years_employed|         Income_type|      Education_type|       Family_status|     Housing_type|     Occupation_type|Target|\n+-------+------+-------+------------+----------+-----+-----+----------+------------+----------+--------------+------------+------------------+------------------+--------------------+--------------------+--------------------+-----------------+--------------------+------+\n|5008804|     1|      1|           1|         1|    0|    0|         0|           0|         2|            15|    427500.0| 32.86857361889703|12.435573625741801|             Working|    Higher education|      Civil marriage| Rented apartment|               Other|     1|\n|5008806|     1|      1|           1|         0|    0|    0|         0|           0|         2|            29|    112500.0| 58.79381506807121|3.1047865459249677|             Working|Secondary / secon...|             Married|House / apartment|      Security staff|     0|\n|5008808|     0|      0|           1|         0|    1|    1|         0|           0|         1|             4|    270000.0| 52.32140290355038| 8.353354278321937|Commercial associate|Secondary / secon...|Single / not married|House / apartment|         Sales staff|     0|\n|5008812|     0|      0|           1|         0|    0|    0|         1|           0|         1|            20|    283500.0|61.504343004989835|               0.0|           Pensioner|    Higher education|           Separated|House / apartment|               Other|     0|\n|5008815|     1|      1|           1|         1|    1|    1|         0|           0|         2|             5|    270000.0|  46.1939670219101|2.1054504883741623|             Working|    Higher education|             Married|House / apartment|         Accountants|     0|\n|5008819|     1|      1|           1|         0|    0|    0|         0|           0|         2|            17|    135000.0| 48.67451077024169| 3.269060966344278|Commercial associate|Secondary / secon...|             Married|House / apartment|            Laborers|     0|\n|5008825|     0|      1|           0|         0|    0|    0|         0|           0|         2|            25|    130500.0|29.210729857560388| 3.019911428708324|             Working|   Incomplete higher|             Married|House / apartment|         Accountants|     1|\n|5008830|     0|      0|           1|         0|    1|    0|         0|           0|         2|            31|    157500.0|27.463945187101718| 4.021985393266117|             Working|Secondary / secon...|             Married|House / apartment|            Laborers|     1|\n|5008834|     0|      0|           1|         0|    0|    0|         0|           1|         2|            44|    112500.0| 30.02936405264995| 4.435409351321383|             Working|Secondary / secon...|Single / not married|House / apartment|               Other|     0|\n|5008836|     1|      1|           1|         0|    0|    0|         0|           3|         5|            24|    270000.0| 34.74130201167717|3.1841858491276342|             Working|Secondary / secon...|             Married|House / apartment|            Laborers|     0|\n|5008838|     1|      0|           1|         0|    0|    0|         0|           1|         3|            39|    405000.0| 32.42229477675791| 5.519620526088831|Commercial associate|    Higher education|             Married|House / apartment|            Managers|     0|\n|5008844|     1|      1|           1|         0|    1|    0|         0|           0|         2|            43|    112500.0|56.132569457278386|12.183686181098858|Commercial associate|Secondary / secon...|             Married|House / apartment|             Drivers|     0|\n|5008854|     0|      1|           1|         0|    0|    0|         0|           2|         4|            39|    135000.0| 43.15215233714587| 8.687378933174534|             Working|Secondary / secon...|             Married|House / apartment|            Laborers|     0|\n|5008868|     0|      0|           1|         0|    0|    0|         0|           1|         3|            24|    211500.0| 44.38694839729769|19.436401842611414|       State servant|Secondary / secon...|      Civil marriage|House / apartment|          Core staff|     0|\n|5008872|     1|      1|           1|         0|    1|    0|         0|           0|         2|            10|    360000.0| 45.64090980649842|14.686133185486355|Commercial associate|Secondary / secon...|             Married|House / apartment|      Security staff|     1|\n|5008873|     0|      0|           1|         0|    0|    1|         0|           2|         4|            21|    126000.0| 33.98016386373437| 4.854309123390624|Commercial associate|    Higher education|             Married|House / apartment|            Managers|     0|\n|5008884|     0|      0|           1|         0|    0|    0|         1|           0|         1|            40|    315000.0| 55.26739084307001|               0.0|           Pensioner|Secondary / secon...|               Widow|House / apartment|               Other|     0|\n|5008888|     0|      0|           1|         0|    0|    0|         0|           0|         1|            11|    247500.0| 46.58822563091645|3.6879607384135196|Commercial associate|    Higher education|           Separated| Rented apartment|          Core staff|     0|\n|5008891|     0|      0|           1|         0|    0|    0|         0|           0|         1|             7|    297000.0| 42.48957884145465| 8.854391260600833|Commercial associate|Secondary / secon...|Single / not married| Rented apartment|            Laborers|     0|\n|5008942|     0|      0|           0|         0|    1|    0|         0|           0|         2|            43|    157500.0| 37.35052738933722|13.267897355866308|Commercial associate|    Higher education|             Married|House / apartment|High skill tech s...|     1|\n+-------+------+-------+------------+----------+-----+-----+----------+------------+----------+--------------+------------+------------------+------------------+--------------------+--------------------+--------------------+-----------------+--------------------+------+\nonly showing top 20 rows\n\n"
     ]
    }
   ],
   "source": [
    "df = spark.read.csv('dbfs:/FileStore/shared_uploads/aslam1996asad@gmail.com/dataset_Databricks.csv', header=True, inferSchema=True)\n",
    "df.show()"
   ]
  },
  {
   "cell_type": "markdown",
   "metadata": {
    "application/vnd.databricks.v1+cell": {
     "cellMetadata": {},
     "inputWidgets": {},
     "nuid": "6fc752d7-4690-4484-b614-36cad2e5e9fc",
     "showTitle": false,
     "title": ""
    }
   },
   "source": [
    "###Queries with Spark SQL"
   ]
  },
  {
   "cell_type": "code",
   "execution_count": 0,
   "metadata": {
    "application/vnd.databricks.v1+cell": {
     "cellMetadata": {
      "byteLimit": 2048000,
      "rowLimit": 10000
     },
     "inputWidgets": {},
     "nuid": "47990c83-1610-44f5-8122-d83222220794",
     "showTitle": false,
     "title": ""
    }
   },
   "outputs": [
    {
     "output_type": "stream",
     "name": "stdout",
     "output_type": "stream",
     "text": [
      "+--------------------+------------------+\n|     Occupation_type|  Avg_Total_Income|\n+--------------------+------------------+\n|            Managers|276028.21611253195|\n|            IT staff|          216450.0|\n|       Realty agents|         211781.25|\n|         Accountants|        203420.175|\n|             Drivers| 202070.9470304976|\n|            HR staff|195954.54545454544|\n|Private service s...|194703.48837209304|\n|High skill tech s...|191292.85714285713|\n|          Core staff| 186171.1009122007|\n|            Laborers|175121.18300464036|\n|      Security staff|170572.25274725276|\n|         Sales staff|166590.08446298228|\n|         Secretaries|165521.73913043478|\n|Waiters/barmen staff|          162675.0|\n|               Other|162437.49048096192|\n|      Medicine staff|160539.55670103093|\n|       Cooking staff|147383.16062176166|\n|      Cleaning staff|146635.27397260274|\n|  Low-skill Laborers|134490.56603773584|\n+--------------------+------------------+\n\n+--------------------+--------------+\n|      Education_type|Num_Unemployed|\n+--------------------+--------------+\n|Secondary / secon...|          1366|\n|    Higher education|           267|\n|     Lower secondary|            47|\n|   Incomplete higher|            15|\n|     Academic degree|             1|\n+--------------------+--------------+\n\n+-------------------+------------------+\n|       Housing_type|    Avg_Num_Family|\n+-------------------+------------------+\n|    Co-op apartment|2.3823529411764706|\n|   Office apartment|2.3157894736842106|\n|  House / apartment| 2.189083371718102|\n|       With parents|2.1495535714285716|\n|Municipal apartment|2.0928792569659445|\n|   Rented apartment|1.9791666666666667|\n+-------------------+------------------+\n\n+-------------------+\n|        Correlation|\n+-------------------+\n|0.08764080633208954|\n+-------------------+\n\n+----------+\n|Num_People|\n+----------+\n|      3557|\n+----------+\n\n"
     ]
    }
   ],
   "source": [
    "df.createOrReplaceTempView(\"credit_card\")\n",
    "\n",
    "query1_df = spark.sql(\"\"\"\n",
    "    SELECT \n",
    "      Occupation_type, \n",
    "      AVG(Total_income) AS Avg_Total_Income\n",
    "    FROM \n",
    "       credit_card\n",
    "    GROUP BY \n",
    "      Occupation_type\n",
    "    ORDER BY \n",
    "      Avg_Total_Income DESC\n",
    "\"\"\")\n",
    "query1_df.show()\n",
    "\n",
    "query2_df = spark.sql(\"\"\"\n",
    "    SELECT \n",
    "      Education_type, \n",
    "      COUNT(*) AS Num_Unemployed\n",
    "    FROM \n",
    "      credit_card\n",
    "    WHERE \n",
    "      Unemployed = 1\n",
    "    GROUP BY \n",
    "      Education_type\n",
    "    ORDER BY \n",
    "      Num_Unemployed DESC\n",
    "\"\"\")\n",
    "query2_df.show()\n",
    "\n",
    "query3_df = spark.sql(\"\"\"\n",
    "    SELECT \n",
    "      Housing_type, \n",
    "      AVG(Num_family) AS Avg_Num_Family\n",
    "    FROM \n",
    "      credit_card\n",
    "    GROUP BY \n",
    "      Housing_type\n",
    "    ORDER BY \n",
    "      Avg_Num_Family DESC\n",
    "\"\"\")\n",
    "query3_df.show()\n",
    "\n",
    "query4_df = spark.sql(\"\"\"\n",
    "    SELECT \n",
    "      CORR(Years_employed, Total_income) AS Correlation\n",
    "    FROM \n",
    "      credit_card\n",
    "\"\"\")\n",
    "query4_df.show()\n",
    "\n",
    "\n",
    "query5_df = spark.sql(\"\"\"\n",
    "    SELECT \n",
    "      COUNT(*) AS Num_People\n",
    "    FROM \n",
    "      credit_card\n",
    "    WHERE \n",
    "      Own_car = 1 AND \n",
    "      Total_income > 50000\n",
    "\"\"\")\n",
    "query5_df.show()\n",
    "\n"
   ]
  },
  {
   "cell_type": "markdown",
   "metadata": {
    "application/vnd.databricks.v1+cell": {
     "cellMetadata": {},
     "inputWidgets": {},
     "nuid": "aa9f74e1-882d-41cf-85e0-b7bb76cef36d",
     "showTitle": false,
     "title": ""
    }
   },
   "source": [
    "###Queries with Spark Operator"
   ]
  },
  {
   "cell_type": "code",
   "execution_count": 0,
   "metadata": {
    "application/vnd.databricks.v1+cell": {
     "cellMetadata": {
      "byteLimit": 2048000,
      "rowLimit": 10000
     },
     "inputWidgets": {},
     "nuid": "83af7df2-b6b8-4f9f-b4b3-4e51940ff518",
     "showTitle": false,
     "title": ""
    }
   },
   "outputs": [],
   "source": [
    "from pyspark.sql import SparkSession\n",
    "from pyspark.sql.functions import col, avg, count, corr\n",
    "spark = SparkSession.builder.appName(\"CreditCard\").getOrCreate()"
   ]
  },
  {
   "cell_type": "code",
   "execution_count": 0,
   "metadata": {
    "application/vnd.databricks.v1+cell": {
     "cellMetadata": {
      "byteLimit": 2048000,
      "rowLimit": 10000
     },
     "inputWidgets": {},
     "nuid": "a99e6595-e62d-4194-ac92-16e861ea560a",
     "showTitle": false,
     "title": ""
    }
   },
   "outputs": [
    {
     "output_type": "stream",
     "name": "stdout",
     "output_type": "stream",
     "text": [
      "+--------------------+------------------+\n|     Occupation_type|  Avg_Total_Income|\n+--------------------+------------------+\n|            Managers|276028.21611253195|\n|            IT staff|          216450.0|\n|       Realty agents|         211781.25|\n|         Accountants|        203420.175|\n|             Drivers| 202070.9470304976|\n|            HR staff|195954.54545454544|\n|Private service s...|194703.48837209304|\n|High skill tech s...|191292.85714285713|\n|          Core staff| 186171.1009122007|\n|            Laborers|175121.18300464036|\n|      Security staff|170572.25274725276|\n|         Sales staff|166590.08446298228|\n|         Secretaries|165521.73913043478|\n|Waiters/barmen staff|          162675.0|\n|               Other|162437.49048096192|\n|      Medicine staff|160539.55670103093|\n|       Cooking staff|147383.16062176166|\n|      Cleaning staff|146635.27397260274|\n|  Low-skill Laborers|134490.56603773584|\n+--------------------+------------------+\n\n+--------------------+--------------+\n|      Education_type|Num_Unemployed|\n+--------------------+--------------+\n|Secondary / secon...|          1366|\n|    Higher education|           267|\n|     Lower secondary|            47|\n|   Incomplete higher|            15|\n|     Academic degree|             1|\n+--------------------+--------------+\n\n+-------------------+------------------+\n|       Housing_type|    Avg_Num_Family|\n+-------------------+------------------+\n|    Co-op apartment|2.3823529411764706|\n|   Office apartment|2.3157894736842106|\n|  House / apartment| 2.189083371718102|\n|       With parents|2.1495535714285716|\n|Municipal apartment|2.0928792569659445|\n|   Rented apartment|1.9791666666666667|\n+-------------------+------------------+\n\n+-------------------+\n|        Correlation|\n+-------------------+\n|0.08764080633208954|\n+-------------------+\n\n+----------+\n|Num_People|\n+----------+\n|      3557|\n+----------+\n\n"
     ]
    }
   ],
   "source": [
    "query1_df = df.groupBy(\"Occupation_type\") \\\n",
    "              .agg(avg(\"Total_income\").alias(\"Avg_Total_Income\")) \\\n",
    "              .orderBy(col(\"Avg_Total_Income\").desc())\n",
    "\n",
    "query1_df.show()\n",
    "\n",
    "\n",
    "query2_df = df.filter(col(\"Unemployed\") == 1) \\\n",
    "              .groupBy(\"Education_type\") \\\n",
    "              .agg(count(\"*\").alias(\"Num_Unemployed\")) \\\n",
    "              .orderBy(col(\"Num_Unemployed\").desc())\n",
    "\n",
    "query2_df.show()\n",
    "\n",
    "query3_df = df.groupBy(\"Housing_type\") \\\n",
    "              .agg(avg(\"Num_family\").alias(\"Avg_Num_Family\")) \\\n",
    "              .orderBy(col(\"Avg_Num_Family\").desc())\n",
    "\n",
    "query3_df.show()\n",
    "\n",
    "query4_df = df.select(corr(\"Years_employed\", \"Total_income\").alias(\"Correlation\"))\n",
    "\n",
    "query4_df.show()\n",
    "\n",
    "query5_df = df.filter((col(\"Own_car\") == 1) & (col(\"Total_income\") > 50000)) \\\n",
    "              .agg(count(\"*\").alias(\"Num_People\"))\n",
    "\n",
    "query5_df.show()\n",
    "\n"
   ]
  },
  {
   "cell_type": "markdown",
   "metadata": {
    "application/vnd.databricks.v1+cell": {
     "cellMetadata": {},
     "inputWidgets": {},
     "nuid": "5fa2df0c-769f-4436-b81e-8619aa629d7b",
     "showTitle": false,
     "title": ""
    }
   },
   "source": [
    "###Queries interfacing with Big Query"
   ]
  },
  {
   "cell_type": "code",
   "execution_count": 0,
   "metadata": {
    "application/vnd.databricks.v1+cell": {
     "cellMetadata": {
      "byteLimit": 2048000,
      "rowLimit": 10000
     },
     "inputWidgets": {},
     "nuid": "ec7d6829-bdd9-44db-8315-8270c80316ca",
     "showTitle": false,
     "title": ""
    }
   },
   "outputs": [],
   "source": [
    "from google.cloud import bigquery\n",
    "\n",
    "# Initialize BigQuery client\n",
    "client = bigquery.Client.from_service_account_json('/tmp/ccbd_exam_2024_asad_aslam_279ee9138000-2.json')\n"
   ]
  },
  {
   "cell_type": "code",
   "execution_count": 0,
   "metadata": {
    "application/vnd.databricks.v1+cell": {
     "cellMetadata": {
      "byteLimit": 2048000,
      "rowLimit": 10000
     },
     "inputWidgets": {},
     "nuid": "117cb95b-7d52-407d-8f29-440cdc1279ce",
     "showTitle": false,
     "title": ""
    }
   },
   "outputs": [
    {
     "output_type": "stream",
     "name": "stderr",
     "output_type": "stream",
     "text": [
      "/local_disk0/.ephemeral_nfs/envs/pythonEnv-978b9be8-0ec5-4343-8e4d-5f194c072931/lib/python3.9/site-packages/google/cloud/bigquery/table.py:2309: UserWarning: Unable to represent RANGE schema as struct using pandas ArrowDtype. Using `object` instead. To use ArrowDtype, use pandas >= 1.5 and pyarrow >= 10.0.1.\n  warnings.warn(_RANGE_PYARROW_WARNING)\n/local_disk0/.ephemeral_nfs/envs/pythonEnv-978b9be8-0ec5-4343-8e4d-5f194c072931/lib/python3.9/site-packages/google/cloud/bigquery/table.py:2323: UserWarning: Unable to represent RANGE schema as struct using pandas ArrowDtype. Using `object` instead. To use ArrowDtype, use pandas >= 1.5 and pyarrow >= 10.0.1.\n  warnings.warn(_RANGE_PYARROW_WARNING)\n/local_disk0/.ephemeral_nfs/envs/pythonEnv-978b9be8-0ec5-4343-8e4d-5f194c072931/lib/python3.9/site-packages/google/cloud/bigquery/table.py:2337: UserWarning: Unable to represent RANGE schema as struct using pandas ArrowDtype. Using `object` instead. To use ArrowDtype, use pandas >= 1.5 and pyarrow >= 10.0.1.\n  warnings.warn(_RANGE_PYARROW_WARNING)\n/local_disk0/.ephemeral_nfs/envs/pythonEnv-978b9be8-0ec5-4343-8e4d-5f194c072931/lib/python3.9/site-packages/google/cloud/bigquery/table.py:1727: UserWarning: BigQuery Storage module not found, fetch data with the REST endpoint instead.\n  warnings.warn(\n"
     ]
    },
    {
     "output_type": "stream",
     "name": "stdout",
     "output_type": "stream",
     "text": [
      "          Occupation_type  Avg_Total_Income\n0                Managers     276028.216113\n1                IT staff     216450.000000\n2           Realty agents     211781.250000\n3             Accountants     203420.175000\n4                 Drivers     202070.947030\n5                HR staff     195954.545455\n6   Private service staff     194703.488372\n7   High skill tech staff     191292.857143\n8              Core staff     186171.100912\n9                Laborers     175121.183005\n10         Security staff     170572.252747\n11            Sales staff     166590.084463\n12            Secretaries     165521.739130\n13   Waiters/barmen staff     162675.000000\n14                  Other     162437.490481\n15         Medicine staff     160539.556701\n16          Cooking staff     147383.160622\n17         Cleaning staff     146635.273973\n18     Low-skill Laborers     134490.566038\n"
     ]
    }
   ],
   "source": [
    "query1 = \"\"\"\n",
    "    SELECT \n",
    "      Occupation_type, \n",
    "      AVG(Total_income) AS Avg_Total_Income\n",
    "    FROM \n",
    "       `ccbd-exam-2024-asad-aslam.credit_card_dataset.credit_card`\n",
    "    GROUP BY \n",
    "      Occupation_type\n",
    "    ORDER BY \n",
    "      Avg_Total_Income DESC\n",
    "\"\"\"\n",
    "\n",
    "result1 = client.query(query1).to_dataframe()\n",
    "print(result1)\n"
   ]
  },
  {
   "cell_type": "code",
   "execution_count": 0,
   "metadata": {
    "application/vnd.databricks.v1+cell": {
     "cellMetadata": {
      "byteLimit": 2048000,
      "rowLimit": 10000
     },
     "inputWidgets": {},
     "nuid": "dd0daaf7-b72c-4b0d-9a5f-bbef35bdf7ac",
     "showTitle": false,
     "title": ""
    }
   },
   "outputs": [
    {
     "output_type": "stream",
     "name": "stderr",
     "output_type": "stream",
     "text": [
      "/local_disk0/.ephemeral_nfs/envs/pythonEnv-978b9be8-0ec5-4343-8e4d-5f194c072931/lib/python3.9/site-packages/google/cloud/bigquery/table.py:2309: UserWarning: Unable to represent RANGE schema as struct using pandas ArrowDtype. Using `object` instead. To use ArrowDtype, use pandas >= 1.5 and pyarrow >= 10.0.1.\n  warnings.warn(_RANGE_PYARROW_WARNING)\n/local_disk0/.ephemeral_nfs/envs/pythonEnv-978b9be8-0ec5-4343-8e4d-5f194c072931/lib/python3.9/site-packages/google/cloud/bigquery/table.py:2323: UserWarning: Unable to represent RANGE schema as struct using pandas ArrowDtype. Using `object` instead. To use ArrowDtype, use pandas >= 1.5 and pyarrow >= 10.0.1.\n  warnings.warn(_RANGE_PYARROW_WARNING)\n/local_disk0/.ephemeral_nfs/envs/pythonEnv-978b9be8-0ec5-4343-8e4d-5f194c072931/lib/python3.9/site-packages/google/cloud/bigquery/table.py:2337: UserWarning: Unable to represent RANGE schema as struct using pandas ArrowDtype. Using `object` instead. To use ArrowDtype, use pandas >= 1.5 and pyarrow >= 10.0.1.\n  warnings.warn(_RANGE_PYARROW_WARNING)\n/local_disk0/.ephemeral_nfs/envs/pythonEnv-978b9be8-0ec5-4343-8e4d-5f194c072931/lib/python3.9/site-packages/google/cloud/bigquery/table.py:1727: UserWarning: BigQuery Storage module not found, fetch data with the REST endpoint instead.\n  warnings.warn(\n"
     ]
    },
    {
     "output_type": "stream",
     "name": "stdout",
     "output_type": "stream",
     "text": [
      "                  Education_type  Num_Unemployed\n0  Secondary / secondary special            1366\n1               Higher education             267\n2                Lower secondary              47\n3              Incomplete higher              15\n4                Academic degree               1\n"
     ]
    }
   ],
   "source": [
    "query2 = \"\"\"\n",
    "    SELECT \n",
    "      Education_type, \n",
    "      COUNT(*) AS Num_Unemployed\n",
    "    FROM \n",
    "      `ccbd-exam-2024-asad-aslam.credit_card_dataset.credit_card`\n",
    "    WHERE \n",
    "      Unemployed = 1\n",
    "    GROUP BY \n",
    "      Education_type\n",
    "    ORDER BY \n",
    "      Num_Unemployed DESC\n",
    "\"\"\"\n",
    "\n",
    "result2 = client.query(query2).to_dataframe()\n",
    "print(result2)\n"
   ]
  },
  {
   "cell_type": "code",
   "execution_count": 0,
   "metadata": {
    "application/vnd.databricks.v1+cell": {
     "cellMetadata": {
      "byteLimit": 2048000,
      "rowLimit": 10000
     },
     "inputWidgets": {},
     "nuid": "62f8949c-27de-40f6-8012-dfa0ed574c2e",
     "showTitle": false,
     "title": ""
    }
   },
   "outputs": [
    {
     "output_type": "stream",
     "name": "stderr",
     "output_type": "stream",
     "text": [
      "/local_disk0/.ephemeral_nfs/envs/pythonEnv-978b9be8-0ec5-4343-8e4d-5f194c072931/lib/python3.9/site-packages/google/cloud/bigquery/table.py:2309: UserWarning: Unable to represent RANGE schema as struct using pandas ArrowDtype. Using `object` instead. To use ArrowDtype, use pandas >= 1.5 and pyarrow >= 10.0.1.\n  warnings.warn(_RANGE_PYARROW_WARNING)\n/local_disk0/.ephemeral_nfs/envs/pythonEnv-978b9be8-0ec5-4343-8e4d-5f194c072931/lib/python3.9/site-packages/google/cloud/bigquery/table.py:2323: UserWarning: Unable to represent RANGE schema as struct using pandas ArrowDtype. Using `object` instead. To use ArrowDtype, use pandas >= 1.5 and pyarrow >= 10.0.1.\n  warnings.warn(_RANGE_PYARROW_WARNING)\n/local_disk0/.ephemeral_nfs/envs/pythonEnv-978b9be8-0ec5-4343-8e4d-5f194c072931/lib/python3.9/site-packages/google/cloud/bigquery/table.py:2337: UserWarning: Unable to represent RANGE schema as struct using pandas ArrowDtype. Using `object` instead. To use ArrowDtype, use pandas >= 1.5 and pyarrow >= 10.0.1.\n  warnings.warn(_RANGE_PYARROW_WARNING)\n/local_disk0/.ephemeral_nfs/envs/pythonEnv-978b9be8-0ec5-4343-8e4d-5f194c072931/lib/python3.9/site-packages/google/cloud/bigquery/table.py:1727: UserWarning: BigQuery Storage module not found, fetch data with the REST endpoint instead.\n  warnings.warn(\n"
     ]
    },
    {
     "output_type": "stream",
     "name": "stdout",
     "output_type": "stream",
     "text": [
      "          Housing_type  Avg_Num_Family\n0      Co-op apartment        2.382353\n1     Office apartment        2.315789\n2    House / apartment        2.189083\n3         With parents        2.149554\n4  Municipal apartment        2.092879\n5     Rented apartment        1.979167\n"
     ]
    }
   ],
   "source": [
    "query3 = \"\"\"\n",
    "    SELECT \n",
    "      Housing_type, \n",
    "      AVG(Num_family) AS Avg_Num_Family\n",
    "    FROM \n",
    "      `ccbd-exam-2024-asad-aslam.credit_card_dataset.credit_card`\n",
    "    GROUP BY \n",
    "      Housing_type\n",
    "    ORDER BY \n",
    "      Avg_Num_Family DESC\n",
    "\"\"\"\n",
    "\n",
    "result3 = client.query(query3).to_dataframe()\n",
    "print(result3)\n"
   ]
  },
  {
   "cell_type": "code",
   "execution_count": 0,
   "metadata": {
    "application/vnd.databricks.v1+cell": {
     "cellMetadata": {
      "byteLimit": 2048000,
      "rowLimit": 10000
     },
     "inputWidgets": {},
     "nuid": "6d4c8a64-aead-4339-8909-0feb97915f7b",
     "showTitle": false,
     "title": ""
    }
   },
   "outputs": [
    {
     "output_type": "stream",
     "name": "stderr",
     "output_type": "stream",
     "text": [
      "/local_disk0/.ephemeral_nfs/envs/pythonEnv-978b9be8-0ec5-4343-8e4d-5f194c072931/lib/python3.9/site-packages/google/cloud/bigquery/table.py:2309: UserWarning: Unable to represent RANGE schema as struct using pandas ArrowDtype. Using `object` instead. To use ArrowDtype, use pandas >= 1.5 and pyarrow >= 10.0.1.\n  warnings.warn(_RANGE_PYARROW_WARNING)\n/local_disk0/.ephemeral_nfs/envs/pythonEnv-978b9be8-0ec5-4343-8e4d-5f194c072931/lib/python3.9/site-packages/google/cloud/bigquery/table.py:2323: UserWarning: Unable to represent RANGE schema as struct using pandas ArrowDtype. Using `object` instead. To use ArrowDtype, use pandas >= 1.5 and pyarrow >= 10.0.1.\n  warnings.warn(_RANGE_PYARROW_WARNING)\n/local_disk0/.ephemeral_nfs/envs/pythonEnv-978b9be8-0ec5-4343-8e4d-5f194c072931/lib/python3.9/site-packages/google/cloud/bigquery/table.py:2337: UserWarning: Unable to represent RANGE schema as struct using pandas ArrowDtype. Using `object` instead. To use ArrowDtype, use pandas >= 1.5 and pyarrow >= 10.0.1.\n  warnings.warn(_RANGE_PYARROW_WARNING)\n/local_disk0/.ephemeral_nfs/envs/pythonEnv-978b9be8-0ec5-4343-8e4d-5f194c072931/lib/python3.9/site-packages/google/cloud/bigquery/table.py:1727: UserWarning: BigQuery Storage module not found, fetch data with the REST endpoint instead.\n  warnings.warn(\n"
     ]
    },
    {
     "output_type": "stream",
     "name": "stdout",
     "output_type": "stream",
     "text": [
      "   Correlation\n0     0.087641\n"
     ]
    }
   ],
   "source": [
    "query4 = \"\"\"\n",
    "    SELECT \n",
    "      CORR(Years_employed, Total_income) AS Correlation\n",
    "    FROM \n",
    "      `ccbd-exam-2024-asad-aslam.credit_card_dataset.credit_card`\n",
    "\"\"\"\n",
    "\n",
    "result4 = client.query(query4).to_dataframe()\n",
    "print(result4)\n"
   ]
  },
  {
   "cell_type": "code",
   "execution_count": 0,
   "metadata": {
    "application/vnd.databricks.v1+cell": {
     "cellMetadata": {
      "byteLimit": 2048000,
      "rowLimit": 10000
     },
     "inputWidgets": {},
     "nuid": "eb78a064-b5b9-4c83-bdee-bc44a4466a0d",
     "showTitle": false,
     "title": ""
    }
   },
   "outputs": [
    {
     "output_type": "stream",
     "name": "stderr",
     "output_type": "stream",
     "text": [
      "/local_disk0/.ephemeral_nfs/envs/pythonEnv-978b9be8-0ec5-4343-8e4d-5f194c072931/lib/python3.9/site-packages/google/cloud/bigquery/table.py:2309: UserWarning: Unable to represent RANGE schema as struct using pandas ArrowDtype. Using `object` instead. To use ArrowDtype, use pandas >= 1.5 and pyarrow >= 10.0.1.\n  warnings.warn(_RANGE_PYARROW_WARNING)\n/local_disk0/.ephemeral_nfs/envs/pythonEnv-978b9be8-0ec5-4343-8e4d-5f194c072931/lib/python3.9/site-packages/google/cloud/bigquery/table.py:2323: UserWarning: Unable to represent RANGE schema as struct using pandas ArrowDtype. Using `object` instead. To use ArrowDtype, use pandas >= 1.5 and pyarrow >= 10.0.1.\n  warnings.warn(_RANGE_PYARROW_WARNING)\n/local_disk0/.ephemeral_nfs/envs/pythonEnv-978b9be8-0ec5-4343-8e4d-5f194c072931/lib/python3.9/site-packages/google/cloud/bigquery/table.py:2337: UserWarning: Unable to represent RANGE schema as struct using pandas ArrowDtype. Using `object` instead. To use ArrowDtype, use pandas >= 1.5 and pyarrow >= 10.0.1.\n  warnings.warn(_RANGE_PYARROW_WARNING)\n/local_disk0/.ephemeral_nfs/envs/pythonEnv-978b9be8-0ec5-4343-8e4d-5f194c072931/lib/python3.9/site-packages/google/cloud/bigquery/table.py:1727: UserWarning: BigQuery Storage module not found, fetch data with the REST endpoint instead.\n  warnings.warn(\n"
     ]
    },
    {
     "output_type": "stream",
     "name": "stdout",
     "output_type": "stream",
     "text": [
      "   Num_People\n0        3557\n"
     ]
    }
   ],
   "source": [
    "query5 = \"\"\"\n",
    "    SELECT \n",
    "      COUNT(*) AS Num_People\n",
    "    FROM \n",
    "      `ccbd-exam-2024-asad-aslam.credit_card_dataset.credit_card`\n",
    "    WHERE \n",
    "      Own_car = 1 AND \n",
    "      Total_income > 50000\n",
    "\"\"\"\n",
    "\n",
    "result5 = client.query(query5).to_dataframe()\n",
    "print(result5)\n"
   ]
  },
  {
   "cell_type": "markdown",
   "metadata": {
    "application/vnd.databricks.v1+cell": {
     "cellMetadata": {},
     "inputWidgets": {},
     "nuid": "dcaaf87a-dfc0-4789-8d05-f19d0ee7ad79",
     "showTitle": false,
     "title": ""
    }
   },
   "source": [
    "###Machine Learning on Dataset"
   ]
  },
  {
   "cell_type": "code",
   "execution_count": 0,
   "metadata": {
    "application/vnd.databricks.v1+cell": {
     "cellMetadata": {
      "byteLimit": 2048000,
      "rowLimit": 10000
     },
     "inputWidgets": {},
     "nuid": "1c7d8130-2012-4192-9ef1-44e2847ae9c4",
     "showTitle": false,
     "title": ""
    }
   },
   "outputs": [],
   "source": [
    "from pyspark.ml.classification import LogisticRegression\n",
    "from pyspark.ml.feature import VectorAssembler, StringIndexer, OneHotEncoder\n",
    "from pyspark.sql import SparkSession\n",
    "from pyspark.sql.functions import col\n",
    "\n",
    "# Initialize Spark session\n",
    "spark = SparkSession.builder.appName(\"CreditCardML\").getOrCreate()\n",
    "\n",
    "# Read the dataset\n",
    "df = spark.read.csv('dbfs:/FileStore/shared_uploads/aslam1996asad@gmail.com/dataset_Databricks.csv', header=True, inferSchema=True)\n",
    "\n",
    "# Columns to be indexed and encoded\n",
    "categorical_columns = [\n",
    "    'Gender', 'Own_car', 'Own_property', 'Work_phone', 'Phone', 'Email', 'Unemployed',\n",
    "    'Num_children', 'Num_family', 'Account_length', 'Total_income', 'Age', \n",
    "    'Years_employed', 'Income_type', 'Education_type', 'Family_status', \n",
    "    'Housing_type', 'Occupation_type'\n",
    "]\n",
    "\n",
    "# Initialize the indexers and encoders\n",
    "indexers = [StringIndexer(inputCol=col, outputCol=col+\"_index\") for col in categorical_columns]\n",
    "encoders = [OneHotEncoder(inputCol=col+\"_index\", outputCol=col+\"_encoded\") for col in categorical_columns]\n",
    "\n",
    "# Apply the indexers and encoders\n",
    "for indexer in indexers:\n",
    "    df = indexer.fit(df).transform(df)\n",
    "\n",
    "for encoder in encoders:\n",
    "    df = encoder.fit(df).transform(df)\n",
    "\n",
    "# Define the features list\n",
    "features_list = [\n",
    "    'Gender', 'Own_car', 'Own_property', 'Unemployed',\n",
    "    'Num_children', 'Num_family', 'Account_length', 'Total_income', 'Age', \n",
    "    'Years_employed'\n",
    "] + [col+\"_encoded\" for col in categorical_columns]\n",
    "\n",
    "# Feature engineering with VectorAssembler\n",
    "assembler = VectorAssembler(inputCols=features_list, outputCol='features')\n",
    "data = assembler.transform(df)\n",
    "\n",
    "# Train-test split\n",
    "train, test = data.randomSplit([0.8, 0.2], seed=42)\n",
    "\n",
    "# Model training\n",
    "lr = LogisticRegression(featuresCol='features', labelCol='Target')\n",
    "model = lr.fit(train)\n",
    "\n",
    "# Model evaluation\n",
    "predictions = model.transform(test)\n",
    "\n",
    "# Calculate accuracy\n",
    "correct_predictions = predictions.filter(predictions['Target'] == predictions['prediction']).count()\n",
    "total_predictions = predictions.count()\n",
    "accuracy = correct_predictions / total_predictions\n",
    "\n",
    "\n"
   ]
  },
  {
   "cell_type": "code",
   "execution_count": 0,
   "metadata": {
    "application/vnd.databricks.v1+cell": {
     "cellMetadata": {
      "byteLimit": 2048000,
      "rowLimit": 10000
     },
     "inputWidgets": {},
     "nuid": "2a1c5c21-b056-46f3-b7af-6c9efe3beda6",
     "showTitle": false,
     "title": ""
    }
   },
   "outputs": [
    {
     "output_type": "stream",
     "name": "stdout",
     "output_type": "stream",
     "text": [
      "Accuracy: 0.7889662560257097\n+------+----------+\n|Target|prediction|\n+------+----------+\n|     0|       0.0|\n|     1|       1.0|\n|     1|       0.0|\n|     0|       0.0|\n|     0|       0.0|\n|     0|       0.0|\n|     0|       0.0|\n|     0|       1.0|\n|     0|       0.0|\n|     0|       0.0|\n|     0|       0.0|\n|     0|       0.0|\n|     0|       0.0|\n|     1|       0.0|\n|     0|       0.0|\n|     0|       0.0|\n|     0|       0.0|\n|     1|       0.0|\n|     0|       0.0|\n|     0|       0.0|\n+------+----------+\nonly showing top 20 rows\n\n"
     ]
    }
   ],
   "source": [
    "# Print accuracy\n",
    "print(f\"Accuracy: {accuracy}\")\n",
    "\n",
    "# Show predictions with target, prediction, and probability\n",
    "predictions.select('Target', 'prediction').show()"
   ]
  },
  {
   "cell_type": "code",
   "execution_count": 0,
   "metadata": {
    "application/vnd.databricks.v1+cell": {
     "cellMetadata": {
      "byteLimit": 2048000,
      "rowLimit": 10000
     },
     "inputWidgets": {},
     "nuid": "dc2ae5a0-97bc-4d44-b21c-70b5fa5254f0",
     "showTitle": false,
     "title": ""
    }
   },
   "outputs": [
    {
     "output_type": "stream",
     "name": "stdout",
     "output_type": "stream",
     "text": [
      "<Figure size 576x432 with 0 Axes>"
     ]
    }
   ],
   "source": [
    "# Example confusion matrix calculation (replace with actual values)\n",
    "tp = predictions.filter((col('prediction') == 1) & (col('target') == 1)).count()\n",
    "fp = predictions.filter((col('prediction') == 1) & (col('target') == 0)).count()\n",
    "tn = predictions.filter((col('prediction') == 0) & (col('target') == 0)).count()\n",
    "fn = predictions.filter((col('prediction') == 0) & (col('target') == 1)).count()\n",
    "\n",
    "confusion_matrix_values = np.array([[tn, fp],\n",
    "                                    [fn, tp]])\n",
    "\n",
    "# Define labels and categories\n",
    "categories = ['True Negative', 'False Positive', 'False Negative', 'True Positive']\n",
    "confusion_matrix_values = np.array([[tn, fp],\n",
    "                                    [fn, tp]])\n",
    "\n",
    "# Define labels for x-axis and y-axis\n",
    "group_names = ['True Negative', 'False Positive', 'False Negative', 'True Positive']\n",
    "group_counts = [\"{0:0.0f}\".format(value) for value in confusion_matrix_values.flatten()]\n",
    "group_percentages = [\"{0:.2%}\".format(value) for value in confusion_matrix_values.flatten() / np.sum(confusion_matrix_values)]\n",
    "labels = [f\"{v1}\\n{v2}\\n{v3}\" for v1, v2, v3 in zip(group_names, group_counts, group_percentages)]\n",
    "labels = np.asarray(labels).reshape(2, 2)\n",
    "\n",
    "# Create DataFrame for seaborn heatmap\n",
    "plt.figure(figsize=(8, 6))\n",
    "sns.set(font_scale=1.2)  # Adjust font size\n",
    "\n"
   ]
  },
  {
   "cell_type": "markdown",
   "metadata": {
    "application/vnd.databricks.v1+cell": {
     "cellMetadata": {},
     "inputWidgets": {},
     "nuid": "a5609cd2-78b0-480f-918a-1dac3c8dd5a2",
     "showTitle": false,
     "title": ""
    }
   },
   "source": [
    "###ML Visualization"
   ]
  },
  {
   "cell_type": "code",
   "execution_count": 0,
   "metadata": {
    "application/vnd.databricks.v1+cell": {
     "cellMetadata": {
      "byteLimit": 2048000,
      "rowLimit": 10000
     },
     "inputWidgets": {},
     "nuid": "e9e028e3-bb5f-4133-9e12-125bd731c8c6",
     "showTitle": false,
     "title": ""
    }
   },
   "outputs": [
    {
     "output_type": "display_data",
     "data": {
      "image/png": "[encoded data removed]"
     },
     "metadata": {
      "application/vnd.databricks.v1+output": {
       "addedWidgets": {},
       "arguments": {},
       "data": "data:image/png;base64,iVBORw0KGgoAAAANSUhEUgAAAYkAAAEhCAYAAACKklw+AAAAOXRFWHRTb2Z0d2FyZQBNYXRwbG90bGliIHZlcnNpb24zLjUuMSwgaHR0cHM6Ly9tYXRwbG90bGliLm9yZy/YYfK9AAAACXBIWXMAAAsTAAALEwEAmpwYAACAz0lEQVR4nO3dd1zN+x/A8VelhEqlrOyMUCiRlZSZkYxcK3vPrGtH9h6FQmY2IfNaP3tvStmSQgiVdp3fH13nOjpxko7o87yP83jc8/l+vt/v51s57/PZKhKJRIIgCIIgyKH6qwsgCIIgZF8iSAiCIAjpEkFCEARBSJcIEoIgCEK6RJAQBEEQ0iWChCAIgpAuEST+IElJSYwfPx4rKysqVKjA5cuXf8p17ezsWLFixU+5VnY3btw4evTo8auLIQjZh0TIUhEREZK5c+dKmjRpIjE1NZXUqlVL0rlzZ8mePXskiYmJP/VeBw8elJiamkquX78uCQ8Pl8THx/+U6757907y6dOnn3Ktb7l06ZKkfPnyksqVK0vevXsncywhIUFSu3ZtSfny5SV79+5V+JpXr16VlC9fXhISEqJQ/sjISMmHDx8yVO6v+fr6SipWrCj3WNeuXSUTJkzI1PW/9vLlS0n58uUlly5d+qnXFQSJRCLJ9auD1J/s5cuXdO7cGTU1NYYNG0alSpXIlSsXN2/eZM2aNVSoUIGKFSv+tPs9e/aMQoUKYWFh8dOuCaCvr/9Tr/c9hoaG+Pn50bNnT2nasWPH0NTUzLJ7JiYmoq6ujra2dpbdQxB+R6K5KQu5ubmRkJDAnj17cHBwoGzZspQqVYo2bdqwe/duSpYsCaR+QC1YsABra2tMTU1p3rw5+/fvl7lWhQoV2Lx5M2PGjMHc3Jz69euzcuVK6XFnZ2eWLl1KSEgIFSpUwM7OTpo+ceJEmWutWLFCehzg4cOH9O7dG0tLS6pVq4a9vT179+6VHv+6uSk6OhpXV1dq1aqFqakpbdu25dy5c9LjL168oEKFChw6dIj+/ftTtWpVGjZsyO7duxX6ubVr146dO3fKpO3YsYN27dqlybthwwZat26Nubk5devWZcSIEYSHh0vL0aVLFwAaNmxIhQoVcHZ2Bv5rVvLx8cHOzg4zMzPi4uJkmpsSEhJwdHRk0KBB0vvFxcXRsmVLRo0apdCzKMLHx4dmzZphZmZGkyZN8PT0JCkpSXp8//79ODk5Ub16daysrOjXrx9Pnz6VHrexsQGgW7duMr97Dw8PGjduzKFDh2jSpAlVq1Zl0KBBREdHc/ToUZo2bYq5uTnDhg0jKipKer2AgAD69OlD7dq1MTc3p127dpw5c0amzHZ2dixevJiJEydiYWGBlZUVixYtIiUl5af9XITsQQSJLPLhwwdOnz5Nly5d5H47VVdXJ2/evAAsWrSInTt3MmHCBPbv34+DgwNjxozh4sWLMucsX76cGjVq4OfnR//+/Vm0aJE0j4eHB7169cLIyIhz586xa9cuhcs6cuRIdHV12bZtG/v372fcuHHkz58/3fwTJkzg3LlzzJ8/Hz8/PywsLBgwYACPHz+Wybdw4UJat27Nvn37aNGiBZMmTZL5cEtPixYteP36NdeuXQPg+fPnXL16lfbt28vNP3bsWPbt28eyZct4+fIlI0eOBKBIkSLS4LZz507OnTuHh4eH9Lw7d+5w6dIlVqxYgZ+fH+rq6jLX1dDQYPHixVy8eJFNmzYBMGPGDOLj43Fzc/vucyjCw8ODtWvXMmrUKA4dOsTEiRPZvn07y5Ytk+ZJSEhg4MCB7Nmzh3Xr1qGqqkr//v1JSEgAYM+ePdJrff27f/PmDXv37sXd3Z3Vq1dz48YNhg0bxs6dO1m6dCmrV6/m2rVreHl5Sc+Jjo6mefPmbNy4kd27d1OvXj0GDRqU5nfn4+NDwYIF2bVrF+PHj2fjxo34+Pj8lJ+LkH2I5qYs8vz5c1JSUihbtuw388XGxuLj48P48eOxt7cHYMCAAdy9exdPT09q164tzdu8eXM6dOgAQJcuXdi0aRMXLlygdu3a6OrqkjdvXtTU1DA0NMxQWcPCwujZs6e0rMWLF083b3BwMEeOHGHVqlVYW1sDMGnSJK5fv463tzezZ8+W5u3atSvNmzcHYPjw4fj4+HD58mVKly79zfLkyZOHVq1asXPnTiwtLdmxYwfW1tYUKlQoTd7u3btL/7948eK4urrSpk0bXr9+TaFChaTBTl9fP83PRVVVlXnz5pEvX750y1K6dGlcXV1xdXXl3bt37N27ly1btqClpfXNZ0hOTsbc3DxNelxcHCVKlABSf/fe3t54eHhQv3596TO4uLgwY8YMXFxcANLUoObMmYOVlRV3796levXq0ubA/Pnzp3nGhIQE5syZI81jb2/Ptm3bOH/+vDStefPmMl9IrKysZK4xYsQITp48yT///MPAgQOl6SYmJgwfPhyAMmXK8OTJE9auXSvzOxF+fyJIZBGJgusmBgcHk5iYSI0aNWTSa9SowapVq2TSTExMZN4XLFiQt2/fZq6gQK9evZg0aRJ79uyhZs2a2NnZUblyZbl5Hz16BIClpaVMuqWlJbdu3Uq3vGpqahQoUEDh8v7111907NiRsWPHsmfPHqZPny433+XLl1m1ahWPHj0iMjJS+nMPDQ2VG1S+ZGxs/M0A8VmbNm04ffo0K1asYNSoUVSpUuW756ipqck02X02evRo6f8/fPiQuLg4hg0bhoqKijQ9OTmZ+Ph4IiIi0NfXJzAwkGXLlhEYGMj79++l+cLCwqhevfo3y1GoUCGZPiUDAwMMDAxk0gwNDYmIiJC+j4iIwN3dnUuXLvH27VtpecLCwmSuXa1aNZn3FhYWrFy5kujo6O8GUeH3IYJEFilZsiSqqqo8evSIJk2a/JRrft0coqKi8t1gJC/Pl+3dAIMHD8bBwYEzZ85w+fJlVq5cSe/evRkxYoTSy/tZxYoVKVeuHCNHjkRNTU3a7v6lsLAw+vXrR+vWrRk0aBB6enq8fv2aHj16kJiY+N175MmTR6GyfPr0iXv37qGmpsazZ88UOgeQ9jl96cvO988/i6VLl1KqVKk0efPnz09sbCy9evWievXqzJ49GwMDAyC1SU6RZ8yVS/afuIqKitzfy5d9CePGjePly5eMGTOGYsWKoampyYgRIxS6n/DnEX0SWURXV5f69euzefNmmU7BzxITE4mJiaFkyZJoaGhw9epVmeNXr16lXLlymS5HgQIFpB25n927dy9NvuLFi9OlSxfc3d0ZNmwY27Ztk3u9z2X63F/w2bVr135Keb/0119/cfHiRdq1a4eamlqa43fv3iUuLo4JEyZQvXp1ypQpk6amoqGhAZCpDtWpU6eSK1cu1q1bx759+zh06NAPX+tLZcuWJXfu3ISEhFCyZMk0LzU1NR4/fkxERAQjRozAysoKY2NjPn78KBNsP3/o/6xO46tXr9KpUydpZ7+hoSEvXrxIk+/27dsy72/evEmhQoVELeIPI4JEFpoyZQq5cuWibdu27N+/n0ePHhEcHIyfnx/t2rUjODiYPHny4OzsjLu7O4cPH+bp06d4eXlx4sQJBgwYkOky1KlTh4sXL3L48GGCg4NZtWqVzAf8p0+fcHNz4+LFi4SEhHDv3j3Onj2LsbGx3OuVKFGCZs2a4ebmxtmzZ3n8+DEzZsyQjpD6mdq2bcvFixdlRhd9qWTJkqioqLB27VpCQkI4fvw4y5cvl8lTtGhRVFVVOX36NO/evZMbsL9l7969HDlyhEWLFmFlZYWLiwuurq5yPzQzKl++fNIBCJs3b+bJkyc8fPiQgwcPMn/+fGn5NTQ08PHx4fnz51y8eJGZM2fKNE/p6emRN29ezp07x5s3b/j48WOmylW6dGn279/P/fv3CQwMZOTIkSQnJ6fJFxgYiIeHB0+fPmX//v1s3LiRXr16ZereQvYjmpuyUNGiRdmzZw+rV69m2bJlhIWFoaWlhbGxMb1795Z+8x4xYgSqqqrMmjWL9+/fU6JECebPny/Taf2jHB0defDgAdOmTSMxMZFWrVrh7OyMn58fkNocERkZycSJE3nz5g1aWlpYWVkxduzYdK85c+ZM5s2bx5gxY4iOjqZ8+fJ4eXmlG1h+lJqa2jfnaJiYmDB58mRWrVqFl5cXlStXZsKECfTt21eax8DAgJEjR7Jq1SpmzZqFpaWlwiNwgoODmTZtGn///be0f6V3795cvHiR0aNHs2nTpjTNORk1ePBgChYsyKZNm5gzZw6amprSYdKQ2uE+f/58Fi1ahK+vL8bGxkyYMEFmVriqqipTpkzB3d2ddevWUbhwYf73v//9cJlmz57NlClTcHJywsDAgN69exMXF5cmn7OzM2FhYbRr1w51dXW6dOlCt27dfvi+QvakIlG0kVgQBOFfdnZ2tG/fPt1anvDnEM1NgiAIQrpEkBAEQRDSJZqbBEEQhHSJmoQgCIKQLhEkBEEQhHT99kNgB6jo/OoiCNmQ5/NLv7oIQjakUrxSps7PyOeNlyQyU/fKLn77ICEIgqAsObHp5Zc8s0QiSbNUhCAIQnaXS0VF4defQqlBIjY2FldXV6pUqSJd9O748eN4enoqsxiCIAg/RFVF8VdGHDx4kM6dO2NhYUGFChXSzefv70/lypWlm2d9FhcXh6urKzVr1sTCwgIXFxc+fPggk+fAgQM0adKEKlWq4ODgkGa/mnSfOWOPkjnz5s0jNDRUZjmDypUrc/DgQWUWQxAE4YeoZuCVETo6OnTu3JkJEyakmyc+Pp7x48en2VYAYNasWfj7+7N//35OnjxJTEyMzNI6N27cYMKECYwfP55r167h7OzMwIED0yz/Lo9Sg8T//vc/Fi5cSNWqVVFVTb11kSJFeP36tTKLIQiC8ENUVVQUfmWEtbU1LVu2/OaGX4sXL6ZWrVpp9hCJi4tj7969DB8+XLrR1tixYzl16pQ0COzYsQM7OztsbW3R0NDAycmJcuXKKbSlsFKDRFJSUpplhOPi4sidO7cyiyEIgvBDMlKTiIyM5MWLF2lekZEZH/V09epVTp48Kd2a90vPnj0jPj4eMzMzaZqxsTF58uQhMDAQgKCgIExNTWXOMzU1JSgo6Lv3VuroJjMzM7Zv3y7dnB5Sl2L+eocrQRCE7CgjfQ0bNmyQ2av8syFDhjB06FCFr/Pp0ycmTJjArFmz5G6UFR0dDYC2trZMura2tvRYdHQ0Ojqyw3d1dHQU2nNeqUFizJgxdO3alcOHDxMTE0Pv3r3x9/dPd4MbQRCE7EQtA81I3bt3ly75/qWvP6y/Z+7cudjY2MjtiwCkrTNRUVEyS+tHRUVJj2lpaaXZSyUyMlKhDaKUGiSMjY05dOgQfn5+lC1bFgMDA2bMmEGRIkWUWQxBEIQfkpH2eR0dnQwHBHnOnTtHZGQk+/fvB1Kb6JOSkrCysmLXrl2UKlWK3Llz4+/vT/369QF4/PgxsbGx0n1QTExM8Pf3l7luQECANP+3KDVIxMTEoKenJ7NhiiAIwu8io0NbFZWcnExSUpJ0H/H4+HggdWva7du3y+wMuG7dOm7dusXSpUsxNDRETU0NR0dH3N3dMTExIXfu3MyfPx8bGxuMjIwA6NChAz179uT06dPUqVOHffv28eDBAxYvXvzdsik1SNStW5cWLVrQvn170Q8hCMJvJ6tG+vj5+TF+/Hjp+ypVqgCwceNGrKysZPJqaWmhoaFB4cKFpWkTJkxg5syZtGjRguTkZKytrXFzc5Met7CwYObMmcycOZNXr15RsmRJPD09pUHkW5S6VPilS5fw9fXl6NGjFCtWDCcnJxwcHL65ReX3iLWbBHnE2k2CPJldu2m6puKfVZPjIjJ1r+xCqUNga9Wqxfz58zl37hydO3dm//792NjYMHz4cGUWQxAE4YfkUlH89af4JWs3aWtr06VLFxYvXkzdunU5evToryiGIAhChmTVjOvsTOnPEh8fj5+fH87OzjRv3pykpCQWLVqk7GIIgiBkmCoqCr/+FErtuHZ1deXw4cNoa2vTtm1b5s6dS9GiRZVZBEEQhB+WVaObsjOlBonIyEhpE5PKH7SUriAIOcOf1IykKKUGiSVLlijzdoIgCD+VqElkgVWrVtGvXz8AueuYfDZkyJCsLoogCEKm/EmbCSkqy4PE1atXpUHi8uXLcvOIpidBEH4HorkpC6xevVr6/z4+Pll9O0EQhCyTE5ublBoYXVxc5KaPGjVKmcUQBEH4IWIIbBY7c+aM3PRz584psxiCIAg/JCfWJJQSJK5evQpASkoK165d48vlop4+fUrevHmVUQxBEIRMURNBIms4OzsDqR3UXbt2laarqKhgaGgod0s+QRCE7OZPakZSlFKCxOd9VFu2bMmBAweUcUtBEISfTjQ3ZTERIARB+J2JIbBK8OTJE65cucK7d+9k+ibEZDpBELK7HFiRUG6QOHz4MGPGjMHY2JjHjx9jbGzMo0ePsLCwEEFCEIRsTzUHTvxVapBYsWIFM2bMwNHRkRo1auDn58eWLVsIDw9XZjEEQRB+SE5sblLqM4eGhuLg4AAgbWpycnLC19dXmcUQfqLa3TuzPPHP2KYxK7x4FY5JozZcv3vvVxclU3Yf+R+Vm7T7br5x89zpOWaKEkr0a6hk4PWnUGpNIl++fMTGxpIvXz709fUJCQlBV1eX6OhoZRYjDS9J5DePv3sWzMTSZkoqTeoHb/f1Xjy9fI25texkjk17eIsrm7ZzwG220soDoGtUlDkvgljUoDkPTv83+fHa9t34Hz6m1LIo27h57uw9ejJN+sKJI2lha/0LSpSWXZd+hL1+A4CGujpGhQvSrllDejm1RlU1898FmzeoS/2aFtL3+46f4u85Swk6vkcm38RBvUn5oq/xT5MT15lTapAwNzfn2LFjODo60qBBAwYOHIiGhgbVq1dXZjHS+LtwWen/l6ljxYDdm5lpXo+PL18BkJKcLJNfTV2d5MTELC1TSkoKxaqaYvlXO65tz741rcS4OBLj4n51MbKcpVklFk8eLZOmo5XvF5VGvr5/taFbu1bExydw4sIV5nitQwXo/VebTF9bM3duNHPn/m4+7Wz2M/nZcl6IUHJz04IFC7C3twdg9OjRtGzZkjp16jBv3jxlFiONyNfh0ldMxHsAot68laYtePMU26ED6LV5DYs/hNDTZxUFSpbASxKJcd1aMtea9vAWLaeMl77PnS8fHZbMZc6LINw/vWLCjbNUa9Pqu2WSpKRw0mMlrWe5oqaunm4+1Vy5aDllPDOe3MEjNhxX/8tY9+spk6dAqZIMO7IXj9hwZj2/h82gvow8eZCuqz2keWp0cmLspf+x+EMIC948ZfCBnRQs91/wnPMida7LyFOH8JJEMvPpXUC2uUlTWxv3T6+o0clJ5v75ixRmeWIEJg0bKFzm7EY9Vy4M9fVkXrk1NNi4ez+O/Udg0bIT9Zx6MnLGQsLffbv5zWvLLhp1HYCZvRO123Wn91g34uLjpcfPX79Fp+Hjqdr8L+r/1Zvx8z14//HbtV2AvHnyYKivR7EihejerhW1zatw9NwlAKJjYnFd7Entdt0xs3ei3aDRnLt2S+FyfdncdPmWP3/PWQqASaM2mDRqw7h57oBsc9P567eo1KQdr968lbnPoZPnqNbiL6I/xQDw9v0Hxs1zp3a77li06kSn4eO5eifgu8/7K2TVHtcHDx6kc+fOWFhYUKFCBZljt27dol+/ftSpUwcLCwvatGnD0aNHZfKkpKSwaNEi6tSpg7m5Ob179yY0NFQmz4ULF3BwcKBq1ao0bdqUQ4cOKVQ2pdYkNDQ0ZP5/wIAByrx9prSYMo4DU2axb/KMDFXfB+3fjoqKCqv/6sHHsFeYNGpAn23r8LBvx/3/nf7muYdnLqBOz67YDu3P8UXy9+JwXu1BcYuqbO7vQvjDx5SqWZ0uK5eQnJTEhbWpq+4O2LOZpPgEFta3JykhAcdZUyhuXoXwR0+k18mVW4NDM+bx8t598uho09JtAkMO7sStck2SExOZaV6PiTfP4dW2C08uXE5TuwKIi4ri1t6DWDl35OrWndJ0q65/8fHlK+nzKlLm38nf/XpQomhh3rx/z1yv9YycuZBNi2bKzXv07EVWb9vN/PEjMClTio9R0Vy57S89funmHQa7zmZUn27MHjOUqOhPzF+9kaFuc/FZOCNDzR25c2vw8d+m3IkLPLh7/xHzxrlQtKAB2w4cYeCkmfitWkyZEsW+W64vmVeuwOShfZnusZqzO9YCoPnFv+3PaptXwVBfj/0nztC3Y1tp+t5jJ2lYxwqtfHmJi4+n+6jJlClRjFWzJqOjlY/Dp87Ra+xU9notwrhkcYWfVxmyqrVJR0eHzp07ExcXx8SJE2WOffz4kebNmzNnzhx0dXU5duwYo0aNYvPmzVSpUgUAb29vDhw4wKZNmyhUqBBz5sxhwIAB+Pn5oaqqyosXLxg4cCCTJk2idevWnD9/HhcXF4yMjKhateo3y6bUILF371656RoaGhgZGWFmZvZT2k+zwu29Bzi1fJX0fYGSJb57TnmbepSpXZMxhcoSF5n6TfDc6vWUrlUD26H9vxskYj9+5ND0ebSYMo4L6zYT8/69zPECpUpi1a0TbpVq8Pr+QyC1/6RQhXLYDu3PhbU+VGxkS/FqVZhcthpvHqcGhbVd+zLnRaDMtS6u3yzzfkOPgSyKCKZUDQseX7hM1L/fBmMi3hP5Ov3RaJc2bmXwgR3oFCoozWfl3JErm7YjkUgUKnN2dOW2PxYtO0nfFzTQ55/1y+nW9r9aYbEihXAd2o+2A0fx+u07ChkUSHOdsNdvMNDTxbqGOeq5clG0kCEVy5aWHl/uswNnxxY4t2khTZvz9zDsuvQj6PEzmbzpSUlJ4cyVG5y7dpMebVsRHPqSI2cusnLmJKxrmAMwcXAfrt8NxHv7HmaNGfrdcn1JQ10d7Xyp660Z6uulWw5VVVUcGtZn3/FT0iDx9v0Hzl+7hdfMSQAcOnWe6JhYFk8eTS41NQAGdHHi4s07bD94lAmDen/3eZUpq5blsLZO7duSt+eOjY2NzPumTZuycuVKrl+/Lg0S27Zto0+fPpQpUwaAMWPGUKdOHa5fv06NGjXYs2cP5cuXx8kptZZva2uLra0t27Zty15Bwt3dXTrcVVdXlw8fPgCgr6/P27dvKVmyJF5eXpQsWVKZxVLIsyvXM3xOyRoWqGloMCc0SCY9l4YG4Q8fK3SNUytW02Bof5pPGsOuURNkr29pjqqqKuOvyQYbtVy5pN/0i1QyIerNW2mAAIh5/55X/35Af1asqhktp4yjWDUztAwKSL8y6ZcsweML8jeLkifw2P+ICn9Djc5OnFi8nOLmVTEyq8zqDt0VLnN2VKVieeb8PUz6Xu3fD7TLt/xZtdWXx89DiIz+JB21F/r6jdwgYd+gLj57D2LXpR91q1ejtnkVGta1QitvHgD8HzziduADNvsdTnNucGjYN4PEis07WL1tN4lJSaACjo1tGdK9I+f/bVayrFJJJr9llUrcundfoXL9KMcmtqzevoeAh4+pXM6Y/SdOo6+XnzoWqR9u/vcf8jbiPTVbd5U5LyExEU2N7/eBKFtGQkRkZCSRkWmbCXV0dNDR0fnhMrx+/ZonT55gYmICQFRUFKGhoZiamsrco2TJkgQGBlKjRg2CgoJkjgOYmppy8ODB795PqUGiW7duPHnyhHHjxpE3b15iYmKYO3cupUuXpn379kydOpWZM2eyatWq719MyeL/bT/9LCUlBUg72kFN/b8fqYqqKrEfPzKnhm2a6yUlJCh035SkJPaOm0LPzd6cWib7c1H5t9Y1v05jEmJiZY59OZtd8p3RJup58jDs6F4en7vIxp6DpDUA14Ar5NJIvz9EHklKClc276BWt06cWLycWt068ezKdV4FPchQmbMbTQ0NShoVkUkLe/2G/hOn49CoAYOdO6CbX4fXb97R8+8pJCYmyb1OIYMCHF67jMu37nLp1l1WbNrBAu+N7PCYR5GCBqSkSOjTsQ2tGzVIc66Bvu43y9jZwZ7ODvZo5tbAUF8vQ7Xy75XrRxmXLI5p+bL4HTtF5XLG+B07hUNDG2mQTUmRUKZEMZa5jUtzriId5cqWkbWbNmzYIHfL5iFDhjB06NAfuv+nT58YOnQotra21K5dG0A6OvTrwKOtrS09Fh0dTdmyZWWO6+joKDSyVKlBYt26dRw9epTc//7y8+bNy7hx42jWrBk9evRg0qRJNGvWTJlF+mHR/za/5C/63weHtqEBukZFpe+Dr90kn54e6pq5CQsITHMNRd3w9aPhyCG0mTNVJv359VsA6Jcozt2D/8g99+W9IHQKGmJQpjRvnzwFIK+uLoXKl5WeX6RiBXQKGuI3cZr0w7xM7ZoyHzLJ/wY1lX//cX/LpQ1baDJmOMWrVaFGp/Ycmv7fwARFyvy7uHv/EXHxCUwY1Ev6gRbw4Ps1RA0NdaxrWmBd04LhPTpT16kHx89fxrlNC0zLG/PoWUiagKQIXW1tueeVLZXarn/tzj1srP4bSXjtzj2Zmsm3yvU19VypXx6Sk5OlH/jpcWxii+emHbRu3ICgx8+YN85Fesy0Qln8jp9CK28eCujpZuRxfwmVDNQlunfvTps2aUeW/WgtIioqin79+mFoaMjcuXOl6VpaWtLjX+f/fExLSyvN8cjISOnxb1FqB0BcXFyagkZHRxP37xBKHR0dErN4aOnPkhgXx6NzF2ny93CMqphSwqIaPTauIumLUSr3/3eawGP/o//uzVRt3QKD0qUoYVGNBkP6U69P9wzdb9eoiZi3d0T3iw+BN4+fcH7NRrqudseqa0cMjctgVMWUOj270uRvFwACj58k5NYdevqsoqSlBUZVTOnhs4qUpCT495v7u+DnJMbFYTt0AAZlSlPBzoYOS+dJa0sA0W/fERcVRaUmdugUKkheXd10yxoWEMjzG7dwXrucPLr5ubp1V4bK/LsoVawIKioqrNu5jxcvX3P8/GVWbNrxzXN2HT7OjoNHCXr8lNDX4ew/cZpPsXGU/beDdmiPTvzvwhVme64l8NFTnoe95OyVG0xcsExmBFRGlChahGb16+DmvpKzV2/y5PkLZi735uGz5/Tu4KhQub5WrHBBAP538SoRHz7yKTZWbj6AFrb1iIz+xKQFy6lUrgzlS//XnNyqYX2KFS5I/4kzOXftFi9ehXM78AErt/hy/LzizZzKkpHJdDo6OhQrVizN60eCxPv37+nevTtFihRh6dKlMoOAtLW1MTIywt//v4EGUVFRPH/+nIoVKwJgYmIicxwgICBA2mT1LUqtSdjZ2TF48GCGDx9O0aJFCQ0NxcPDAzu71AljN27coGjRot+5Svaxsddguq525+8Lx/gY9ordY10xLFtGJs8Kh460mDIOp8Wz0TUqyqeI97y4dZej85Zk6F5PL13hpq8f1Z1kv5ls6jeMxqOGYj9xNAZlShEXGUVYQKBM05RXmy50XbWU0Wf/IerNW47MWYxOQUMS41I/dD69i2Bd1744zp5KnV5deRl4n50u43A5sV96DYlEwtbBo2nlNp5Go4by4UXoNycYXtqwlQ5L53Jrz34+RcgOCVWkzL+DCmVKMWlIH1Zv243Xll1ULleGCQN70XfC9HTP0dHKx9qdfixYvZGExESKFynEtBEDqf1vG32tamasXzCN5Ru302XEBCQSCUUKGlDP0pxcuX78n+uMUYOZt2oDf89ZQnRMDOVLl8RzxkTKlCimULm+ZmZSjm5tWzJliScRHyJxbGIr02fzJb38OthYVef4+ctMGNRL5lhuDQ02LpzB0nVbmPDvUF+9/DpUMSkn7WTPTrJqqfDk5GSSkpKkX5Lj//1CoK6uzrt37+jZsydmZmbMnDlTbjNix44dWbNmDbVq1aJQoULMnz+fUqVKSeegOTo64u3tja+vLw4ODly4cIGTJ0+yYcOG75ZNRaLEhuCYmBhmzZrFvn37SEhIQENDAwcHB8aPH0++fPkIDQ0lISGB0qW/P4LjswEqP94BlFPl1tJizotA/CbN4NSylb+6OFnC8/mlX10EIRtSKV7p+5m+4bihkcJ5G70J/X6mf+3evZvx48enSd+4cSNXr17Fw8ODPHnyyPSBtmrVimnTpgGpfaSLFy9m165dxMbGUr16ddzc3ChWrJg0/4ULF5g9ezbBwcEULlwYFxcXmjdv/t2yKTVIfCaRSIiIiEBfXz/T09xFkPi+Kq3sSUlK5mXgfbQLGtJyyjjK1KnJlArViQp/86uLlyVEkBDkyWyQOJGBINEwA0EiO1P6fhLJycncvn2bV69e0bx5c+Lj41FRUZFpYxN+Lo28eWnhOpYCpUoQ/ymG59dvsaBe0z82QAhCVsmBSzcpN0iEhIQwYMAAwsLCkEgkNG/enNOnT3P8+PFfvjTHn+zadt9svf6TIPwucmCMUO7ophkzZtCwYUOuXbuG+r/rEVlZWXHt2jVlFkMQBOGHqGTgvz+FUmsSt2/fZtmyZaipqUn7IvLnz8/Hjx+VWQxBEIQfovbnfPYrTKk1ibx580rnRHwWERGB7jfG3AuCIGQXOXHTIaUGCWtra2bOnCkdA5ySksKSJUuwtU27bEVOU9a6DgP3bmXmM3+8JJHYTxyTbt4iFSuwNPrlN3eE0ylUkLkvH+IliZSZBf5ZvT7dmXTrPB6x4Sx8F8ygfdt/ynMIWevqnQAGTZ6FXed+mDRqg+emnTLHk5KT8d6+h2Y9BlPFvgNNuw9is5/sktDh7yIYPWsxLXsPo3KTdn/0TnI/W05sblJqkBg9ejShoaHUrFmTqKgoqlevzr179xg+fLgyi5EtaWpp8fJeELv/dpVudiSPep489Nmxgfv/O5NuHhUVFXpt9k53UcJW0ybhMGMyxxctZ7pZbRbUa8KVzd+eKSxkDzGxcRiXLM7ovt3krsDqsWEra3bsZVQfZw6ucWdIt79YsHojOw7+t/9AQmIS+bW16NHegdoW314BVJCloqL460+h1D4JbW1tfHx8CAgIIDg4GENDQ6pXr55tlwdXJv/DR/E/nPoPue1ct3TzdVq+kMfnLvL00lUq2zeWm6f55LEkJSRyYvFyqjrITpYxKFMa+wmjWNa8PfeOnpCmvwy8/xOeQshqNlbVpesvLfDemOb43qOn6Nnegcb1UjfDKl60MHeCHuK1ZRcdWjQBUpfUmDy0LwDX7t7j9Zt3Sir97y8nflL9kmeuXLkyzZs3p0aNGiJAZICVcydK1rBg54i0MzM/K9/Amnp9u7Ohe3/p2kxfMm/TkuTERLQMCuDqf5k5ofcZfGAnRStXzMqiC0oSn5BA7q/mHGlqaBD2+g2h39gHRFBMTuyTUEpNQt508y+pqKgwa9YsZRTlt1XYpDztF85ksW2LdPeU1i5oSK9Nq1nffQBRb94ibx1RA+PSqKiq0tJtAjuGjyUq/A1Nxgxj1Jl/mGpSXbq5kPB7ql/TAp89B6llXoXypUtwJ+ghvkdSa4zh7yIwKlTwF5fw96b6J7UjKeiXfo2XSCScOnWKPXv2/MpiZHu5NDTou3Mj+yZN/+aS4702e3Np41aCTpxKN4+Kqiq5NDTYMXws/oeOEHztBuu69UeSkkLNrn9lQekFZZowqDem5Y1pM2Akpk3b4zJtPu2aNQJAVUXU2jNL1CSyyOzZs9Ok3bx5k9mzZ6OmpiZdpEqQL3+RwhiZVqLj8oV0XL4QSK19qaqpsTwxgv2uM/ln9kIqNrKlfANrGo8ZLs0DMPOZP+fXbGTLABciX74G4OUXwSYpPp43j58qtCWrkL3p6mizxHUMCYmJRHz4SMEC+mzbfwSA4kUK/eLS/f4yu9bc70jpazeFhYWxYMEC/ve//9G9e3f69etHvnz5lF2M38r70DCmmVrJpFVt3YKWbhOYWa2udCe5r/OUrGFB93WeuDdtw6t/O6Yfnr0AQCGT8rwLfg6Amro6BUqX5No2sXTHn0JDXZ3Chqk7yh08eRbLKpXQ183/i0v1+8uqpcKzM6UFiU+fPuHl5cXGjRtp2LAhhw4d+q32jshqufPlk+5FoaahQf7ChShW1Yz46E+8efwkTTNTScvUtfa/TP86j9a/eyy/vv9QOqz2/v9O8+TiFTosmcOmfsOICn9Ds3EjUVVV5fKmbVn2fMLP8Sk2luehqb/LxKQk3rx/T+Cjp+TNo0lJoyLcDXpI6OtwKpUrw7sPH1m3cx+Bj5+yZYlsn1/go9RdCj9GRRMTGyd9/609tAVQyYFRQilBYvv27Xh4eGBkZMSGDRuoVq2aMm77Wylpac7IU/9NemowpB8NhvTjwamzLLJNu31kZqxw+Iv2i2YzaN82JBIJzy5fZ6GNPdFvxVDI7M7//mO6j54sfb/F7zBb/A5To0plfBbNICExkeU+23ke9hr1XLmwrFKJrUvnUKFMSZnrtBkwUu77oOOif/BbcuJgTKXsJ2FiYoK+vj42Njbp5pHXb6EIsZ+EII/YT0KQJ7P7SdwtpXhNy+zZ00zdK7tQSk3C0dExR3b4CILwZ8mJH2NKCRJz5sxRxm0EQRCyVE78sqv00U2CIAi/qxwYI0SQEARBUFROnHEtgoQgCIKCVMUQWOFnm/n0LgVKlUyTHhYQyDRTK0aePEj5BtZpjsd/+sRwLXmrL6XVcsp4Wk4dzznvDWzqO1Sa3n2dJ7V7dEmTf1AuPVKSkwGw/KsdbeZMJa+eLjd372dTv2GkJCUBqUt4jDl/jBOLl3N9x26FyiIo7uqdANbt9CPo8TPCwt8wvEdnBnZ1kslzO/ABsz3Xcu/hE/Jra+HYxBaXnp1RU1OTe82k5GTc12/l7JUbBIe9RENdncrljBnWoxNVK5aX5vM7dooNu/fz4uVr4hMSMSpsiFPzxvRo5yBtd7908w7TPFbx6s07aptXYfbfw9DR+m/i6zC3eZhVKEvfjm2z4KeTPWXVyiYHDx5k8+bNBAUF8enTJ+7fl12V+d69e0ybNo3AwED09PTo1asX3bp1kx6Pi4tj1qxZ/PPPPyQlJVG/fn2mTp0qs6HbgQMHcHd359WrV5QqVYrx48dTu3bt75ZNBIksNrtGA1S/+AedW0uLyXcuSGc3e7XtSi4N9f9OUFFh/NVT3Dty4utLyVXBtj61unfixe27co8/PHOe1R26y6R9DhD59PXptm4Fm/oM5cUdf/rt8sG6X09Or1gNQKMRg4l8+UoEiCzyeW+Ilnb1me25Ns3xl+Fv6TV2Kk2sazN95CCCQ18yccEykEgY1bebnCtCQkIit+7dp6eTAxXLlkEikbBmx156/j2FvSsXUaJo6hcPfd38DOragdLFiqKhrs41/3tMc1+Fmqoq3dq2IiUlhZEzF9LLyRG7OjWZtGAZXpt38nf/HgD8c+YCYa/fsHjSqCz7+WRHWdVxraOjQ+fOnYmLi2PixIkyx6Kjo+nTpw+dO3dmw4YNBAYG0q9fPwoWLEizZs0AmDVrFv7+/uzfvx9NTU3GjBnD2LFjWblyJQA3btxgwoQJLF26lLp16+Ln58fAgQMVmtSc5UHieyvAfvaj8ySyu68nqNVrZY+aujrnvDcAEPP+vczxio1s0StmxBmvtB8aX9MuaEiPjSvx7tiT1jMmy82TlJAgXbbjawZlShH7MZIrW1I3HLq99wBFKpkAULCsMXYug5htmf7cFiFzvrc3xNb9/6CVNy8zRw1GVVWVcqVK8PrtOxas3sjArh3Im0czzTl582iyceF0mbRZo4dw8uJVTl++gXOb1ImZ1jXMZfIUL1qYE+evcOV2AN3atuJDZBQRHyJxbtOC3BoatGpow6lL1wD4EBnFXM91rJw1Kd0azZ8qIzEiMjKSyMjINOk6Ojro6MjO77K2Tm1NuHz5cpr8R48eRVVVlUGDBqGqqkq1atVwcnJiy5YtNGvWjLi4OPbu3YuHhweFCqWuzzV27FiaN29OWFgYRYsWZceOHdjZ2Ul3AXVycmLHjh3s3r2bIUOGfPM5cuD8wV/Lun9P7uw/TOSr1/KPD+jF8xu3CL5245vX+bz73NmV63h8Pv2JY6VqVmfuy4fMeHKHfrt8pEEA4M2jJ2jkzUOJ6uZo5M1LOZt60hqJ85pl7J0wLd0AI2S9GwGB1K1eVWbPFesa5sTGxRP46InC14lLSCAxKYm8mrnlHpdIJNwJesCNgEBqVjMFQC+/DgUL6HPmyg0Sk5K4cOMWFYxLATBzuTftmzeifOm0zah/OhUVFYVfGzZsoGHDhmleGzZsyNA9g4KCqFSpkszfgampKUFBQQA8e/aM+Ph4zMzMpMeNjY3JkycPgYGB0muYmprKXPfLa3xLltck/tQawo8oUd2ckpYW+E2cLve4TuFCVHVozrYho797reaTx6KqpsbhmfPTzRNw5AS3/Q4S/ugJOoUK0nj0MMZfPcWcmraEBQQS8+EDa7v0oduaZeTW1uLugSNcWOtDg8H9iIuKJvDoCQbs2YJRlco8PneJrYNGEv/p0w8/v5Axb969x+KrzaAM9FK3LH0T8V7eKXLNXrEWvfw6NGtQVyY9KvoTNh37kJiUREpKCoO7/UW3Ni2B1A/DJa5jmOu5jtkr1lKjSmX6dWrHqUvXePjsORMH92HcPHeu3blH+dIlmDZyEAZ6upl74N9ARmoS3bt3p02bNmnSv65FfE90dDTa2tpprhEdHS09DqTJo62tLZPn6/vq6Ojw9On3Z4WLPgklqt+/J2+ePJXZNvRLdXs5kxgXx5UtO+Ue/6ysdR1sBvVhloU131pV5dq2XdL/D/O/x8Mz55kScAXbYQPY3D91OfG7B/7h7oF/pPkKlCxB03EjmFurIX+5z+NV4H1WtutKr81raD75b/aMm5KRRxZ+sYWrN3L8/GU2LJhGvjx5ZI7ly5uHPSsXERcfz82AIBat2UTBAvq0t0/df8Kisgnbl82V5o+K/sT0Zatxn/I3q7ftJikpmSMblrNozSZmLvNm8eTvf7n53allYHSTvGalH6GlpcW7d7LN1pGRkWhpaUmPA0RFRaGvry/NExUVJZMnKioq3Wt8i1KDRHx8PJ6enly8eJF3797JfMCdOKFYR+3vSlNbG8tO7Tk8Q/43fxUVFer17c6VzTuI/zf6p8fEzgYtQwNmBgdI09Ry5aJs/brU7tGFiSUr8yHsZZrzkhMTCb52U+5oq8+6rnbnoNscPoSGYdLIlgNuc5CkpHBl03ZauinWvyT8HIYF9Hj7VY3h3fsPqcf09b55rkQiYebyNRw8eZb1892oUKZUmjyqqqqUNErtyK5QphQfoz6xZO1maZD42tyV62lpZ03lcsZMXriCYT06oaamRuvGDXAeOSnjD/gb+hUzrk1MTDh8+DApKSnSJqeAgABMTFKbjkuVKkXu3Lnx9/enfv36ADx+/JjY2FhpHhMTE/z9/WWuGxAQIM3/LUrtk5g7dy6HDx/G3t6et2/f4uzsjJqaGu3atVNmMX4Jq65/kUtDgwvrNsk9XrlZYwqUKsnZleu+e63TK1Yzo0ptZlarK309u3qDW3v2y+wv8TUVVVWKVTXlfcgLucfr9k4dMfO5U11FVQU19dSRV2oa6qjkxCUwfyGLyhW5cOM2KSkp0rSzV2+SRzM3Ff9dVl6e5ORkJixYxpEzF9i4cDomxootSieRpBCfkCD32IXrt7kdeJ/B/+5emCJJIenfUXKJSUnfrNH+SVRUFH9lRHJyMvHx8SQmJgKpX6jj4+NJSUmhSZMmJCcn4+npSUJCAnfu3GHnzp106tQJAE1NTRwdHXF3dyc8PJyPHz8yf/58bGxsMDIyAqBDhw7873//4/Tp0yQmJuLr68uDBw/kNod9Tan/6k+cOIGXlxc9evRAXV2dHj164O7uzvXr15VZjF/Cun9Pbu89QFT4m3SPP7tynZBbd9IcK1WjOlMDr1GqRupImKg3bwkLCJR5JXz6RMz7D4QFBJKSnEzufPlov3AWxnWsKFCyBKVqVKfPtnUYlCnFqeWr09xDt2gRWk4dz6a+w6RpD89coNHIIRQqX5YGg/vy8PT5n/TTECB1b4jAR08JfPRUZm+I4NDUWmCnVs2I+hTD5EUrePjsOf+7cIWl67fQtXVz6cim12/fYd9zCMfOpQ5eSEpOZuTMhfzvwhUWTx6Nro42byLe8ybiPZ9iY6X3dt+wlQvXbxMS9oonIaHsOHiU1dv34NjEVm45py71YsaoIWj8O1zb0qwym/ce4klIKOt37aNGlcpZ/ePKFrIqSPj5+VGlShV69+4NQJUqVahSpQpXr15FS0sLb29vzpw5g6WlJUOHDmXw4MHY29tLz58wYQIVK1akRYsW2Nrakjt3bubNmyc9bmFhwcyZM5k5cybVq1dn/fr1eHp6SoPIt6Tb3OTl5aXwAw4YMEChfFFRUZQunfqtRk1NjaSkJExMTLh9+7bC9/odlbaqQbGqZuwcOUHucd2iRTBt0VTaT/A1jbx5KGxSHo28eeQelyclOZkilUyo0dmJfPp6RL95S/D1W8yr05iQm2l/3p29lnBkzmLpbnUAO4b9TY+NKxl/7TT3T57loJtYqPFn+t7eEEUKGrBmzhTmeK2j3cDR6Gjlo0OLJrj07Cw9JzEpmachoUR9igHg1Zt3HDlzEYCuI2TH2w92/ouh3TsC8OlT6gf/67cR5NZQp1iRQozs3ZWOLZumKedCbx8a1rWSmYw32LkD4+d70H7QaCqVLcO8cS4/7eeSnWXVpkNt27albdv0JyVWqlSJ7du3p3tcU1OT6dOnM326/EExAC1btqRly5YZLlu6+0nY2dkpdgEVFYX7E1q2bImnpyfFixfnr7/+ok+fPujq6uLi4sL58z/2LVXsJyHII/aTEOTJ7H4Sr2sofn6hq/cyda/sIt2axP/+97+ffrNOnTpx//59ihcvTs+ePRk+fDgSiQQXF5effi9BEISfLQeu76fc0U1duvy3jlCzZs0wNzcnOjoaY2NjZRZDEAThh+TE/SQU7rj29fXF0dERCwsLQkJCAFi9ejVHjhz54ZsXKlRIBAhBEH4bWdVxnZ0pVJPYvn07CxcupHv37tIFowD09fXZtGkTTZum7eySx9nZOd1IvHFj2rVrBEEQshNRk0jHpk2bcHNzY/DgwTILelWuXJlHjx4pfDMrKytq1qwpfZUqVYqgoCAqV84Zw+cEQfi9iZpEOoKDg6lSpUqa9Lx580rXBlGEvNUGW7RowY4dOxS+hiAIwq+iqvYHfforSKGahKGhIc+fP0+TfvPmTYoXL56pAtSsWZPTp09n6hqCIAjKkJFVYP8UCgUJR0dH5syZw9OnT1FRUSEuLo7Tp0+zYMGCTC+pcezYMfLly/f9jIIgCL+aqorirz+EQs1NAwcOJDQ0lObNmyORSHBwcABSZwn26tVL4ZvZ2dnJRNjY2FgiIyOZPFn+hjmCIAjZyh9UQ1BUujOu5QkJCSEgIICUlBRMTU0pUaJEhm62Z88emff58uWjYsWKmWqyEjOuBXnEjGtBnszOuI60M/9+pn/p/O9mpu6VXWRoMl3x4sWl65X/SBNRxYoVpUvXfikoKEhuuiAIQrailvNWQlb4iX18fLC1tcXS0hJLS0saNGiQ4bkNnTt3lpverZv8Td0FQRCyExVVFYVffwqFahKLFy9m48aNdOvWDQsLCwBu3LjB4sWLeffuHSNGjFDoZvJathISEv6okQCCIPzBcuBnlcIzrt3c3KQd1gA2NjaULVuWmTNnfjdIfJ5pnZCQkKbWEBYWlmaDbkEQhOzoT6ohKEqhIJGYmCh3Mp2ZmZl0J6VvsbKyAlJrHzVr1pSmq6ioYGhoSPPmzRUtryAIwq8jahLy2dvbs3//foYOHSqTfuDAAYXWbfo807pkyZK0atXqB4opCIKQDYiaxH++3JnOwMCADRs2cPnyZapVqwbA7du3CQwMpGvXrgrfzMjIiJCQEJkhr8+fP+fdu3eYmys+tEwQBOFXUMmBo5uUujNdq1atWL58ucz8iuDgYIYMGcL+/fsVusbXxDwJQR4xT0KQJ7PzJD61qatw3nx7/ow94ZW6M11oaGiaCXglS5YkLCzsp99LEAThZ1PJeRUJxedJ/Ay6urqEh4fLpIWHh6Otra3MYgiCIPyYLFwr/O3bt4waNYratWtjaWlJx44duXr1qvT4hQsXcHBwoGrVqjRt2pRDhw7JnP/+/XtcXFywsLCgZs2auLq6kpCQkOlHVnjGdXBwMP/88w+hoaFpRjTNnj1boWvUq1ePKVOmMG/ePLS1tYmKimLatGnUr18/Y6UWBEH4BbJyCKybmxsfPnzg4MGD5M+fnw0bNtCvXz9Onz5NZGQkAwcOZNKkSbRu3Zrz58/j4uKCkZERVatWBWD06NGoqalx8uRJ4uLiGDhwIHPmzMHV1TVT5VKoJnH27FlatmzJoUOH2L17Nw8ePOB///sfx48f5/Xr1wrfbOTIkXz48IFatWpRr149atWqxfv37xk5cuQPP4AgCILSZGFNIjg4mGbNmqGvr4+amhp//fUXMTExPH/+nD179lC+fHmcnJzQ0NDA1tYWW1tbtm3bBsCLFy84d+4cY8eOJX/+/BQqVIjhw4eze/du4uPjM/XICtUkli5dSp8+fRg+fDjm5uYsWbKEAgUKMGrUqAzVAnR1ddmyZQt3794lLCwMIyMjzMzMfrjwgiAIypSR0U2RkZFERkamSdfR0UFHJ+2Am759+7Jr1y6aNGmCrq4umzdvplSpUpQvXx5PT880k45NTU05ePAgkLr+XZ48eTA2NpYeNzMzIzY2lqdPn2ZqbTyFnvjx48c4OjoCkCtXLuLi4sibNy/Dhg3D29s7QzdUUVGhSpUqNGvWjEqVKnH48GG6d++e4YILgiAoXQb2k9iwYQMNGzZM89qwYYPcS5ubm5MrVy7q1atH1apVWb9+PXPmzEFDQ4Po6Og0gUVHR0e6M2h0dHSavt3P7zOye6g8CtUk8uTJQ1JSEpA6ZyI0NJRy5cqhpqbGu3fvMnzTly9fsm3bNnx9ffnw4QMtWrTI8DUEQRCULgPNSN27d6dNmzZp0uXVIlJSUujRowdWVlZcuXKFfPnycerUKfr27cvmzZvR0tIiKipK5pzIyEi0tLQA0NLSShMMPuf/nOdHKRQkKleuzN27dzE2NsbKyopFixbx6tUr9u/fT8WKFRW+2enTp9m6dStnz55FT0+PqKgofH19qVChwg8/gCAIgrJkZDHS9JqV5Pn48SMhISEsX76c/PnzA9CoUSOKFy/O+fPnMTEx4ezZszLnBAQESJuRTExMiImJ4fHjx9ImJ39/fzQ1NSldurTCZZZHoeamESNGULRoUQCGDRtG4cKFmTdvHnFxcbi5uX33fC8vL+zs7Bg4cCASiYSlS5dy6tQptLW1MTAwyNQDCIIgKE0WbV+qp6eHsbExmzdvJjo6mpSUFE6cOMHDhw+pXLkyjo6O3L9/H19fXxITEzl9+jQnT56kY8eOABQrVox69eoxf/58Pn78SHh4OO7u7rRt25bcuXNn6pEztDPd15KTk/nw4QMFChT4Zj4TExP09PRYuHAhderUkabXq1cPPz+/757/LWLGtSCPmHEtyJPZGdcJvZsonFdjzdEMXfvZs2fMmzePmzdvEh8fj5GREd26dcPJyQlInScxe/ZsgoODKVy4MC4uLjKLo0ZERODm5sbZs2dRU1PD3t6eiRMn/togERQURJs2bQgMDPxmvq1bt7Jt2zYePHiAhYUFTk5O2Nvb07BhQxEkhCwhgoQgT6aDRJ/vL2j6mYb3kUzdK7tQyozrTp064efnx+bNmylatCiurq7Uq1dP2g4nCILwO8iJO9MpdVkOCwsL5s+fz+nTp+nfvz9FihShU6dODBgwQJnFEARB+DFZOJkuu/oly1Xp6enRp08fjh49yqpVq1BTU/sVxRAEQciYLOq4zs4UXrspq1hbW2Ntbf2riyEIgvBdGRkC+6f4ZpCoXLlytv+heAZf+NVFELIhlQJGv7oIwp8oB2469M0gMX369GwfJARBEJQmB34efjNItG3bVlnlEARByP5EkBAEQRDSpSqamwRBEIT0iJqEIAiCkC4RJARBEIR05cA5XUoPEjdu3GDPnj28efMGLy8vAgICiI2NxdLSUtlFEQRByJgcWJNQuBfm0qVLDBkyhFatWvHq1SsAdu7cyeXLlxW+2aFDh+jfvz9qampcuXIFSN1sw93dPYPFFgRB+AXEshzyHTt2jL59+6Kjo8OzZ89ITEwEID4+PkPbl3p6erJy5UqmTp0qXYqjQoUKPHz48AeKLgiCoGQiSMjn6emJq6srs2bNIleu/1qozM3Nv7tM+JdevnyJhYUF8N/0dnV1dZKTkzNSZkEQhF9DVVXx1x9CoSd58uQJtWvXTpOuo6PDx48fFb6ZkZFRmqASEBBAsWLFFL6GIAjCLyOChHw6Ojq8efMmTfr9+/cpVKiQwjfr2bMnQ4YMwdfXl6SkJA4ePMiYMWPo1auX4iUWBEH4VXJgc5NCo5uaNGnC4sWLWbFihTTt0aNHLFiwQGb7vO9xdHQkJSWF9evXk5yczOLFi+nWrRstW7bMeMkFQRCUTOUPqiEoSqHtS2NiYujfvz937twhISEBHR0dIiMjqVOnDp6enmhoaCijrHJJnvv/snsL2ZeKQfFfXQQhO8qbP1OnJ7v1VDiv2pR1mbpXdqFQTSJv3rz4+Phw+fJl/P39SUlJwdTUVG4/xbeMGzcOJycnqlev/kOFFQRB+KX+oGYkRWVoMp2VlRVWVlY/fDOJREKfPn0oVKgQTk5OODo6UqBAgR++niAIglLlwCChUHPTsmXLvnl8yJAhCt8wOjqaAwcO4OvrS2BgIA0aNMDJyQkbGxuFr/El0dwkyCOamwS5MtvcNKufwnnVJqzK8PWvXLnCkiVLCAwMRF1dnerVq+Pp6QnAhQsXmDNnDsHBwRQuXJjhw4fL9Am/f/8eNzc3zpw5Q65cuWjWrBmTJk3KdHeAQkGiSZMmMu+TkpJ4/fo1GhoaFCxYkCNHjvzQzR8+fMjChQs5ffp0huZbfEkECUEeESQEuTIbJGb3Vziv2viVGbr21atXGTBgAFOmTKFJkyaoqqoSFBRElSpVePHiBS1atGDSpEm0bt2a8+fP4+LiwsaNG6latSoAvXv3Rk1Njfnz5xMXF8fAgQOpVq0arq6uGSrH1xRqbjp69GiatHfv3jF27Fg6duyY4ZvGxcVx+PBhfH19uXnzptjjWhCE30MGmpsiIyOJjIxMk66jo4OOjk6a9IULF9KhQwccHBykaVWqVAFgz549lC9fHicnJwBsbW2xtbVl27ZtVK1alRcvXnDu3DkOHTpE/vz5yZ8/P8OHD2f48OGMHTuW3LlzZ/RJpX54gb8CBQrg4uLCqFGjaNSokULn3L59G19fXw4dOoSuri5t27Zl4cKFGZprIQiC8MtkYAjshg0b5DbVDxkyhKFDh8qkxcTEcPv2bczNzWnbti2hoaGUKlUKFxcXateuTVBQEKampjLnmJqacvDgQQCCgoLIkycPxsbG0uNmZmbExsby9OlTTExMMvKUMjK1CmyuXLkIDw9XOL+zszONGzfGw8MjwyOjBEEQfrkM1CS6d+9OmzZt0qTLq0VERkaSkpLC/v37WbVqFeXKlWPPnj0MGDCAAwcOEB0dTdmyZdNcJzo6Gkjt69XW1pY5/vn95zw/SqEgcePGDZn3EomE8PBwvL2900S3bzl79iz582euTVAQBOGXyUCQSK9ZSZ58+fIB0K5dOypVqgRAhw4d2LBhA2fPnkVLS4uoqCiZcyIjI9HS0gJAS0srTTD4nP9znh+lUJDo3LkzKioqfN3HbWFhwYwZM7557qtXryhcuDAAnz594tOnT3LzFS1aVJGiCIIg/DpZtOmQtrY2xYunHWzxeSFUExMTzp49K3MsICBA2oxkYmJCTEwMjx8/ljY5+fv7o6mpSenSpTNVNoWCxIkTJ2Teq6qqoq+vr1BnSPPmzaU1ETs7O+lDfyaRSFBRUfnh0U2CIAhKk4XzJLp06cKaNWto3rw5ZcuWZe/evYSGhlK/fn0kEgne3t74+vri4ODAhQsXOHnyJBs2bACgWLFi1KtXj/nz5zN37lzi4+Nxd3enbdu2meq0BgWGwCYmJjJ27FhcXFwoUaJEhm/w8uVLihQpAkBoaGi6+YyMjDJ8bRBDYAX5xBBYQa7MDoFdOkLhvGrDF2fo2hKJhOXLl7Nt2zZiYmIoV64co0aNombNmkDqPInZs2dL50m4uLjIzJOIiIjAzc2Ns2fPoqamhr29PRMnTsz6IAFgaWnJnj175FaHMuLEiRM0bNgwTfrJkyextbX9oWuKICHII4KEIFdmg4THKIXzqg1dmKl7ZRcKjeeysbHhzJkzmb7ZmDFj5KaPHTs209cWBEHIcmKpcPmqVauGh4cHQUFBmJmZkSdPHpnjrVq1Uuhm8iotkZGRafopBEEQsiXVrOm4zs6+GSQaNmzIrl27mDlzJgA7d+5k586dMnlUVFS+GyQ+d1jHx8enaW6KiIigQYMGP1B0QRAEJVPNeV9ovxkkQkNDSUlJISgoKFM3GTp0KBKJhKlTp8osBqiiooKhoSG1atXK1PUFQRCUQiXnbTqUqRnXivo867BEiRJYWloq45ZZ7sWrcBo5D2Tz4hlUN634q4uTLdh1HYCTfSMGdmn/q4si/CR2zVvTvo0Dg/r2TjfPi7AwGrZwZPPaVViaV1Ne4X6FHNg0/t0g8ebNG5KSkr6Z51trL305ma5o0aKEhYXJzfcrJtONm+fB3mOn0qQvnDCCFrb1lF4eeey6DiDs9RtWzpiAjdV/mzXtO36av+e6E3TMV+llmrRwBcFhr/BZOE0mfdeyuWhmcrhddlbBvOY3jxsVKcL/DvkpqTSwe98Bxk/573dQQF8fs8oVGTl0MBXKlf3GmYrbtWk9mnk0pe8bO7TFoXkzhg74b8nsIoUKce7YIXTz6/6Ue2ZrOXD70u8GCXlrj3ymyES47D6ZztKsIosnyQ5r09HK90vKkp7cGhos8PahnmU11LJoxufPoK/7Zy+5cu7YIen/37x9l6Gjx7Jnqw+GBqkbZ6l91amZkJiIhrp6lpZJTU2N0//sB+BFaBgz5y+i96BhHN69A23tzC3HAKCvr6dQGQwNDDJ9r9+CqEmk5e7unqn1lj6vUghpZ25nB+q5cmEo5x/Cxt0H2H3kJM/DXpE3jyY1q1Zm3ICeFCyQ/j8ary2+7Dp8nNfvItDKm5dKZUuz3G2s9Nv1+eu3WbZxO/cePSW/thZ1q1fl7/7d0dPRTveaAO3tG7Ln6El8j/yPDs0bp5vP/8FjFq3ZzK1798mdWwNL04qMG9gDo0IFpXk27D7A2p1+fIyKprppRRwa1mfsPA9ObVlFYcMCfIyKZsbyNVy7c4+Ij5EUKWhAh+aN6dm+FSoqKnhs3M6uf1J/jyaN2wEwa/Rg2ja1k2luWrx2M0fOXuKfdR4yZZy6dCUPnj5ny5KZCpc5u/jygzB//tQ1efT1dKXpFcxrMnHMKG7fvcupc+exrlOb0cOHyG2K+fob+aeYGBYv8+TI8f8RGRVJ6ZIlGdS3N00afn/+0Of7GxoYMH70CDr37Mutu3exrlOb02fPs9RzJQ8ePUZbS4umjez4e8Qw8v47QvHh48fMWbiE23cDSEpKokiRwvTv1QPHlqmTtL5sbnLuM4DnIS9YttKbZSu9AThxcC+AzDN27NGHcsZlmD55gkw57dt2oElDW0YMHgjAwX+OsmrdBp48C8awQAEa2zVg+OAB0rJlS2J0U1oWFhaZ2mL082xr+PFZ1b/K3/27UaJIYd68/8DclRsYOXMRmxZNl5v36NlLrN6+h/njhmNiXIqPkdFcuRMgPX7p5l0GT5nDqD7OzB4zhKhPMcxfvZGhU+fhs3DaN4cBG+jp0qeDIx4bttHS1pq8X1T/P3sUHEK3Ua70aN+KSYN7kZiczAqfnfQaO419qxaRW0ODo2cvMW/lBsb27079mhbcCAhigfcmmeskJCZSrlRxerRrRX6tfNwICGLq0lXk19aiXTM7ejk5EBz6khevwvGYkjrvRTtf3jTlcWxiy8qtu7kd+ICqFcunXjshkcOnLzCydxeFy/y7Wb5qNUMH9GP4oAGkpKQodI5EImHA8FEgkbB47kwKGRpy4fIVRo6byOplS6ht9e1mri99/kKSlJRE0IOHDBwxmq4dnZg/cxovQsOYMnM2n2JimD/DDYCR4ydT3rgM29Z7kzt3bp48CyYlJVnutT0WzqVt5240bWhHr26pv0N9PT1evn4tk69NqxYsWLqMyWNHS3dFu+MfwJOnz6TBZ/e+A8xesJiJf4+ierWqvHr9mmlzFxDx4YO0bNlSDmxu+uYT/+z5C5s3b5Y2KwUGBmJnZ0fjxo0JCAj4zplZ58rtACxadZG+mvVMXee9W9uW1LGoSrEihTCvVAHXoX24dvcer9++k3udsPA3GOjpYl3DnKIFDalYtjTd27aU/qNdvmknzo7NcXZsTqliRTGrUJY5fw/l2t17BD1+9t1y9mzvgIqKKt479so97r19Lw1qVWdY946UKVGMCqVLMn/ccF6/fcfZqzcBWLdrHy1s69GtbUtKFStK26Z2ODaW3TbWUF+Pfh3bUrlcGYoVKYRDIxvaNbPj4MnUxcXy5cmDpoaGtAZmqK8ntx+idLGiVDUph9+x09K0/126Rlx8AvY2dRUu8++mYQMbunbsQInixShVUrFlbK5cv8GtO3dZsXgBlubVKF7MiL/ataFVC3t8tu1Q+N4REe/x8FqFllY+qphWZs3GTVQyqcCE0SMxLl0Km3p1mPT3aPYf+ofQsJcAhL18Sd3atShrXIbixYywqVcH2/ryNwHTzZ8fNTU18ubNg6GBAYYGBnKbP+2bNCI+IYETp/+bgLv3wCGqmZlSumRJAJZ5rWbk0EE4tmxO8WJG1KhugevY0ew7eJiPcjbqyTbEZDpZCqzYkSFr166lWbNmACxZsoQmTZqQN29e5syZg4+Pz0+9l6KqmJRjzt//bQDy+Y/+8m1/Vm3dzePnL4iM/iT9WYS+fkMhg7Q1K3ubOvjsPYRdlwHUrV6V2uZmNKxrhVbe1Kqz/4NH3A58wGa/f9KcGxz6koplv71SYx7N3Azv0ZGZy9fSsWXTNMf9HzwiOOwVFq26yKTHJyQSHJr6gfD4+Qta2sl+AFSrVEHmfUpKCt479nLo5HlevX1HQkIiiclJFC1o+M3yyePYpAFL129j/KCeqOfKhd+xU9jVtpT2+ShS5t9NFdPKGT7nbsA9EhMTqd+0hUx6YmIiJUt8e3mR5ORkzOukBvqY2FjKlC6F+/w5FNDX59HjJ9SqITuasKalBRKJhEdPnmJUtAi9nLsyadpM9uw7QE1LC+xs6lO54o9vUAOgo62NnY01fgcOY9+4EYmJSRw8cpThA1O3/oyIeE/oy5fMWbSEeYvdped9/jcWHPKCKpUrZaoMWUYMgZWV2fkRX/vw4QMFChQgKSmJ69evs2TJEtTV1albt+5PvU9GaObWoKRREZm0sPA39J84E4dGNgzu2gHd/Nq8fvOOnmPdSExnpFchgwIcXuPO5dv+XLp1lxWbd7HAexM7POZQpKABKSkS+vzlSOtGNmnONdDXVaisbZrYsnHPQdzXb6VmVdkPo5QUCa0b2tC3Y9qBBrpf9Hl8r3a4btc+Vm3dw/iBPahYtjT58uRhg+8BTl25rlAZv9S8QT1mea7j9OXrWFQ24dy1Wyyb+neGy/w7+Xo1AtXPHypffeFKSvzv7yglJQVtLS12bVqf5nrq3+n4VlNTY++2TaioqKCvr4dWvowNuhjcrzcOzZtx5sJFLl+5xso16+ndw1nab/CjHFs2Z8jIv4mIeM+N27eJiYmlRbMmAKRIUpvhJo4ZhZVl9TTnFs6G/VFSYjJd1sqTJw8fP37k4cOHlClThjx58pCYmEhiYqIyi/Fdd+8/Ii4+gQkDe0qbUgIePvnueRoa6ljXMMe6hjnDu3eibodeHL9wBWfH5piWN+ZRcEiagJQRqqqqjOnbjf4TZ6KXX/ZD1LS8MfefBlOiaOF0A4FxiWLcunefzg7NpGm3Ah/I5Ll69x7WNarRrtl/M+OfffWtXl09l0Lt7fm1tbCtZYnf8dOEhb8lv7YW9SyrZajMvzt9PV0Awt+8laa9i4jg9Zs30vdmlSoSGRVFfEIC5csaf32J70qvtlHWuAxXb8g22125dgMVFRXKGZeRphUvZkSXDu3p0qE9q9ZuYM1Gn3SDhHoudZKTv/+7r1e7Fvnz63DwyFEuX7uOrXU98v+7AY9BgQIUKVyIp8+C6dDWUcGnzCZyYE1CqU/cqFEjevbsycSJE7G3twfg/v372a5Du5RREVRUVFi3az8vXr7m+PnLrNj07bbhXYePs+PQMYIePyP0dTj7/3eGT7FxlC1RDICh3f/ifxeuMttrHYGPnvI87BVnr95k4sLlxMXHK1y2epbVqGVuhs/eQzLp/Tu14/HzF4yZs5Q7QQ958fI1l27dZebyNYS8fAWk9mscOnUen72HCA59yd5jp6R9Bp8/o0sXM+LK7QAu3brL0xdhLFm3hTtBD2XuVaxwQZ6EhPLw2XPef4wkISH9IO/YqAGnLl9n+4GjtLSzlmnDVqTMvztNTU0sqlXFe4MPQfcf4H8vkL8nT5UZGlurZg3qWNVk6Ki/OX7yFCEvQvG/F4jP1u3s2L33h+/du1tX7gXdZ9aCRTx++owz5y8yY94CWjVvRtEihfkUE4Pb7HlcvHKVkNBQ7gXd5+yFixiXSb/ps5hRUW7cvk3Yy1dEvP+Q7peFXLly0bJZU7bu3M2ps+dxbCXblOYyeCA+W7fj6b2WB48e8+RZMMdPnsJ1xuwffl6lUFVT/PWHUGpNYuLEiezduxd1dXUcHByA1P1XBw7MXNX2Z6tQphSTBvdm9fY9eG3xpXK5MkwY2Iu+E9LfhU9HS4u1u/axYLUPCYmJFC9SiGku/altUQWAWtXMWD9/Kst9dtBl5CQkEglFDA2oZ1mNXLky9mv4u3932gwYLZNmXLIYW5fOYum6rfQZP534hEQKGehjVc0U7X+bIJpY12J0X2dWb9vDgtU+WJpVZLCzE1OWrJSOQhnUtT0vw98weMpccqmp0aJBPZzbNMfv+H8d0O2aNeTyLX86DZ9IdEyMdAisPNY1zdHOl5fHz1+wcILsWvyKlPlPMGvqJCZPm0XHHn0oaGjI6OFDeB7yQnpcRUUFzyULWLbSm1kLFhMe/ob8+XUwqVCePt2df/i+JuXL4bl4AUs9V7Jlhy9a+fLRtJEdY0cOByCXmhqRkZFMdJvBm7fv0MqXD6sa1Rk7Yni61xw6oC+uM2bTrI0T8fHx0iGw8rRp1YL1m7eir6dH/bqye9o7tmyOVr68rF63Ea8161BTy0Vxo6I0tvuxLQOUJgc2Nym0n0R2JvaTyJzlPjvw2XuIS77rf3VRfiqxn4QgV2b3k9i5SOG8ak4jM3Wv7EKpNQmJRMKGDRvYsWOHdMe6Dh060L179z+2TTo7SUxKYt2ufdjUtCCPpiaXb/mzZqcfXb7ooxAE4RtyYJ+EUoPE6tWr2bp1K3369KFEiRI8f/6cNWvWkJCQQL9+/b5/ASFTVFRUuHI7gHW79vMpJpZihQvSv1M7endo/auLJgi/hxzY3KTUIOHr64uXlxcVKvw3Nr9GjRoMGTJEBAklyKWmhvfsyb+6GILw+/qDOqQVpdQgERERQdmysqtTlilThvfv3yuzGIIgCD8mBzY3KfWJjY2N8fWVXdp6z549GBtnfGy4IAiC0qmqKP76QYMHD6ZChQpcvnxZmnbhwgUcHByoWrUqTZs25dAh2SHw79+/x8XFBQsLC2rWrImrqysJCQk/XIYvKbUmMXr0aPr06cOuXbsoXrw4L1684MGDB6xevVqZxfgtrNmxl6PnLvM0JBSJREK5UiUY2KU91jXMZfLdDnzAbK/13Hv4hPza+XBsYotLj07S+Qgvw98yceEKHj57zoeoKHS1taljUYURvbpQ2PDHF24UsgfvDT4cO3GSJ8+CU/9OyhozsE8vmSGnzn0GcOX6jTTn5tHU5NbFM2nShW/I4prE3r17iYuLk0l78eIFAwcOZNKkSbRu3Zrz58/j4uKCkZERVatWBVI/W9XU1Dh58iRxcXEMHDiQOXPm4OrqmukyKX0IbFhYGAcOHJCObmrRokWmJtP9qUNg+06YQeN6VpiVL4umZm52HT7O+l378Vk4HQvT1LV1Xoa/pWVfF5rUqyVdnXXiwhV0aN6IUX1Sx9eHv3vP/y5exbS8Mfq6OrwMf8u8lRtISExij9eCX/mIWSqnDIHtM3g4TRraYla5Epqaudm5x4/1m7bi4+1F9WqpHyAfPn6UWdVAIoH2XXtQr7YVs6bmsD6qzA6BPbhK4bxqLTLWz/rq1Ss6duzIli1bsLW1ZePGjVhZWeHh4cGZM2fYuXOnNK+Liwt58uRh9uzZvHjxgoYNG3Lo0CFpq8zp06cZPnw4ly9fJncmNwJTWk1i7969+Pv7U7VqVdFJrYDVsybJvB/Ttxtnr97k6LlL0iCxdf8RtPLmYeaoQaiqqlKuVAlev41ggbcPA7s4kTePJgUL6NGxZRPpdYoWNKRfp7YMnjKXqE+f/qhJazmR9/KlMu//dhnG2QuXOHbipDRI6H61H8z5S5d5HR5OR6d2SivnHyMDS4VHRkYSKWdFWx0dHXT+XaLkM4lEwoQJExg4cGCaXTqDgoIwNTWVSTM1NZXu1RMUFESePHlkmu3NzMyIjY3l6dOnmJhkbsFGpQSJVatWsXz5csqWLcvOnTt59+4dPXr0UMat/xgpKSlEx8SSV/O/bwU3AoKoW70aql/84VrXMGf6Mm8CHz+Vu/f2+4+R+B0/TaVyZUSA+AOlpKTwKfpTmoUGv7Rt524qmVTIviutZmcZGN20YcMGli1bliZ9yJAhDB06VCZty5YtSCQS/vrrrzT5o6Oj0wz40dHRITo6WnpcW1t2LbfP7z/nyQylBAlfX188PT2pU6cO586dY968eSJIZNDKrbuJiv5Ehxb/1QreRLzHorLstwSDfxeUe/NOdsTYyJmL+N/Fq8TFJ2BeqQLeX9VUhD+D15p1REZF8Vc7R7nHw9+85X9nzjB57BjlFuxPkYFJv927d5e7/fPXtYjnz5/j6enJ9u3b5V5HS0uLqKgombTIyEi0tLSkx78OBp/zf86TGUoJEm/fvqVOnToA1K1bl/DwcGXc9o+xZd8/rNzqy4pp4364s3n8wJ4M6fYXoa/CWb5pJyNnLmbNnMnZes9sIWM279jFyrXr8Vy8kMKFCsnN4+u3Dw2N3LS0T7sniaCADDQ3yWtWkufatWt8+PCBtm3byqQPGjSIli1bYmJiwtmzZ2WOBQQESJuRTExMiImJ4fHjx9ImJ39/fzQ1NSld+tv71ChCKUHiy75xFRUVhbd1FGDNTj+WbdzOimnjqGNRVeaYob4eb99/kEl79yH1veFXe3F/3kWuTHEjKpQpRf2Ofbhw406a0VLC72nNxk14eK7Cc/FC6tSSv91pSkoKO3f70cq+aYb3nRD+lQXLB9nb20u/RH9mY2PDjBkzqFOnDpGRkXh7e+Pr64uDgwMXLlzg5MmTbNiwAYBixYpRr1495s+fz9y5c4mPj8fd3Z22bdtmutMalBQkEhISGD9+vPR9TEyMzHuA2bOz+RLBv4D7+q2s332AlTMmptlkCMCisgn7TpwmJSVF2i9x9uot8mjmpqJx+t8gJP9u+hL/k8ZRC7/W0hUrWb95K6s8llDT0iLdfGfPXyT05Us6tm+bbh7hO7JgCGyePHnk9iHp6+uTP39+8ufPj6enJ7Nnz8bNzY3ChQsza9Ys6fBXgPnz5+Pm5oatrS1qamrY29szbty4n1I+pQSJVq1affO9kNasFWvZfvAYCye4ULp4Ud5EpPYxaObWkHY4d2rVlM37DjN5sSc92rUiJOw1S9dvpWtre/Lm0QTgyNmLxMbFU6lsGfLl1SQ49CUeG7ZT2LAAtcyr/LLnE36OmfMXsd13D4tmT6d0qRK8eZu6uZFmbk20tWXbo7f57sGsciUqmVSQdylBEUpaluP+/fsy7+vUqcP+/fvTza+vr8/SpUvTPZ4ZYqnwbMqksfzhiY6NG8jsyX3r3gPmrEydTKejlY82TWUn0528dA2vLb48ef5Cul9D3epV6d+pHUUKGijlWX6FnDJPooK5/KalNq1aMGfaFOn71+Hh2DZvjdvEcTi1ycELOmZ2nsQZ+Z3L8qjVTztS6XckgoTwR8opQULIoMwGibM7v5/pX2rWTpm6V3ah1GU5BEEQfms5cN8bESQEQRAUlQNXgRVBQhAEQUE5cQdNESQEQRAUpZrzPjKz/Im/ng+RHjFPQhCEbE9sXypkhat3UveVDnr8lLDwtwzv0YmBXdrL5PnevhDyxMbFs2TdFo6evUTEx0gKFtCjVcP6DO7qJD3PrusAwl6/SXNu2ZLFOOCdOq760s27TPNYzau376htbsbsMUPR0fpvRu6wafMxK1+Wvh3TrkMj/DxXr99grc8Wgu4/IOzVK4YP6s+gvr0VPn+cqxt79h9Mc568/SQKFSzImSMHpO/Xb96K9/qNJCYm0r5Na8YM/2+Y9aeYGFr/1YV5092wqJbD59aIPomfT9QQICY2DuOSxWhpZ81sz7Vpjr8Mf0uvcdNoUq8W00cMkO4LgUQi3RdCnvmrNnLi4hVmjhpMqWJF8X/wmAkLlpFbQ4P+nVJn1e5aNpfkL5ZBiYmNo3X/kTRvUA9IXaph5KxF9GrfGrs6NZi0cAVeW3bxd7/uAPxz5iJhr9+weOLIn/kjEeSIiYmlbJnStLJvyqwFizJ07u59B3jw6DEFDQ3lHm9p35RxI4dL36t9MSns/sNHLPJYwYrF89HKl48Bw0dRw8KcBtapfyML3ZdjZ2MtAgSI0U1C1rCxqo6NVXUAFnj7pDmuyL4Q8twICMLepi71LKsBUKxwQQ6ePMvd+w+lefR1ZceF7zh0jKSkZNrbNwLgQ2QUER8icW7TnNwaGrRqaM2pS9elx+Z6rWflzIliIUAlsLGui411XQAWLE27xHR6Hj1+wkL3ZWxes4peA4fKzaOZOzeGBvInTz559gyT8uWoV7sWALVqWvLoyVMaWNfj2o2bnL94ib3bNmfwaf5QObAmodQnjo+PZ8mSJfz11180atSIhg0bSl85WXr7QsTGxRP4+Gm651mYmnD26k1evHwNQOCjp9zwD8KmZvV0z9l+4Bi2tSwp+O8CgHr5dShYQJ8zV26SmJTEhet3qFCmFAAzV6ylvX1Dypcu8ROeUsgKsbFxuIydwBiXYZQqmf7v6fjJU9SybULT1u0Y5+pG2MtX0mPly5blWfBzQkJDiYh4zx3/AEzKlyMuLo6J02YyffJE8qTzRSXHUVFR/PWHUGqQmDt3LocPH8be3p63b9/i7OyMmpoa7drl7B2y3kS8l+4D8Vl6+0J8afzAnlhVM6VRt0GYNutA20Fj6NLaHqfmjeTmv3v/EQEPH9OhRWNpmoqKCksmj8J7+x6adh9M3jya9OvUllOXr/Pw6XO6tLZn3DwPGjkPZJDrnDSrzgq/1rQ586hkUgHHls3TzdOiWRPmTXdj42pPxo8eweOnz2jXpbt0nSfj0qUYM3wI/YaOoGOPPrR3dKBe7VosXbGS2jVrUNDQgO79B9HYoS0z5y8iKSlJWY+X/aipKf76Qyi1uenEiROsX7+e0qVLs3z5cnr06EGtWrWYP3++Movxx9i67x/OXr2Ju+sYShYrQsCDx8zxWk8Bvfz89cXmRJ/tOHiMYoULSpunPrOobMJ2jznS91GfPjF9mTfurmNYvX0PScnJHFm/jEVrNzNz+RoWTxqV1Y8mKGDfoX+4ces2u7embcL80pervpYva4x51So0bOGIr99+BvTuCYBTW0ec2jpK893xD+DYyVP4bd9M936DaNe6Fe1at6LHgMHs2L2Xzh3af32bnEE0N2WtqKgo6SYYampqJCUlYWJiwu3bt5VZjGwnI/tCfBafkMB8bx9G9OpCE+taVChdkrZN7ejRrhUrNqVdXyb6UwwHT56jQ4vG350QNNdrAy1t61G5XBku3rhDSztr1NTUaN2oARdu3PmhZxR+vguXLhMc8oIa9RtSybI2lSxrE/ryJR5eqzGzqpfuefl1dDAuXYrQsJdyjyckJjJh6nTcJo5DkpLC3YB7tG7ZHA0NDZo3aczFy1ez6pGyvxzY3KTUmkTRokUJCQmhePHilCxZkpMnT6Krq/tTNsb4nf3IvhCJiUkkJSWj+tUfo6qqKvKWbNx34gyJSUm0bWr3zbJcuHGb20EP8F2eWrtLSZFImxcSk5L4zdeD/KOMGDKQXt26yqT1HjSMpg1t+at9+sOVP8XE8Oz5c+rXqyv3+PJV3lQ1M6VuLSsi/90GU/o3kJhIiiQHbxomahJZq1OnTtJ10nv27Mnw4cPp1q0b3bp1U2YxlO5TbCyBj54S+OgpiYlJvIl4T+CjpwSHpn6T69SqKVGfYpi82JOHz57zvwtX0+wL8frtO+x7DeXYucsAaOXLi1VVUxav28L567d58SqcI2cvsm7XPhrXs0pThu0Hj9KwTo00fR9fl3Pq0lXMGDkIDQ11ACyrVGKz32GehISy3nc/NapU+sk/HeGzTzExBN5/QOD9ByQkJvL2XQSB9x8Q/DwEgGP/O0mzNk68/nf730IFC1K+rLHMSz1XLvT19Sj37zaWz0Ne4O65ijv+AYSGveTq9RsMdBmFRALtWrdMU4bA+w/Yf+gfxo10AUBHW5vy5cqyau0GHj1+gq/ffmpUT39joz+eqElkrS5dukj/v1mzZpibmxMdHS3dl/VP5f/gMd1H/7e2/5Z9/7Bl3z/UqFIZn4XTKFLQgDWzXZmzcj3tBv2NjlY+OrRojEuPTtJzEpOSeRoSRtSnT9K0RRNHsHjdFiYuXE7Eh0gKGejzV4smDOoq2158694D7j8JZlz/Ht8s50LvTTSsU5OqFctL0wY7d2D8fA/aD/6bSmVLM2/c8G9cQcgM/3uBdOs7UPp+8/adbN6+k5rVLfDx9iIq+hNPnwWTmIGOY3V1da7euMmWHbuIjo7G0MAAC/OqTJ80Ic0+2ElJSUyYOp3JY0fLbFg0d9oUJkydztZdvjS2bUBnpxw80EQt580aEPtJCH8ksZ+EIFcm95OQ3L+kcF6VCrUyda/sQqlh0dnZOd1O040bNyqzKIIgCBmXA/sklBokrKxk28rDw8P5559/cvw8CUEQfhN/UF+DopQaJIYMGZImrUWLFuzYsUOZxRAEQfgxObAm8cufuGbNmpw+ffpXF0MQBOH7smh00/z582nRogUWFhbUq1ePCRMm8P697GoL9+7do2PHjlStWpUGDRqkaaKPi4vD1dWVmjVrYmFhgYuLCx/+nW+VGb88SBw7dox8+fJ9P6MgCMKvlkXLcqipqTF//nwuX76Mn58fr169ktmLJzo6mj59+lCvXj2uXLnCkiVLWLZsGf/88480z6xZs/D392f//v2cPHmSmJgYxo4dm+lHVmpzk52dnUzHdWxsLJGRkUyePFmZxRAEQfgxWdTcNHLkf0vxFyhQAGdnZ0aN+m/5m6NHj6KqqsqgQakrRVerVg0nJye2bNlCs2bNiIuLY+/evXh4eFDo36HNY8eOpXnz5oSFhVG0aNEfLptSg8TQobLLGOfLl4+KFStSvLgYrigIwm8gA81IkZGRREZGpknX0dFBR0fnm+devHgRExMT6fugoCAqVaoks1K0qakpO3emLsHz7Nkz4uPjMTMzkx43NjYmT548BAYG/j5BomLFijIP/llQUJDcdEEQhOxF8SCxYcMGli1Luy/IkCFD0nxh/tKhQ4fYuXMnmzZtkqZFR0ejra0tk09HR4fo6GjpcSBNHm1tbemxH6XUING5c2du3LiRJr1bt25cuXJFmUURBEHIuAzUJLp3706bNmnX0PpWLeLgwYNMnToVT09PKleuLE3X0tLi3bt3MnkjIyPR0tKSHofURVT19fWleaKioqTHfpRSg4S8yd0JCQnfXZVUEAQhW8jAZ5UizUpf2rlzJ/Pnz8fLy4vq1WU3DjMxMeHw4cMyi4AGBARIW2BKlSpF7ty58ff3p379+gA8fvyY2NjYTLfSKCVIfJ5pnZCQkGYxv7CwMExNTZVRDEEQhMzJoo7rjRs3snz5ctasWSPTr/BZkyZNWLBgAZ6envTt25egoCB27tzJ1KlTAdDU1MTR0RF3d3dMTEzInTs38+fPx8bGBiMjo0yVTSlrN31ul/Py8mLAgAH/3VxFBUNDQ5o3b/7DVSKxdpMgj1i7SZArs2s3hd1XOK9K0QoK561QoQK5cuVCQ0NDJv3gwYPSTud79+7h5uZGYGAgenp69O7dW+ZLd1xcHDNnzuSff/4hOTkZa2tr3Nzc0NXVVbgccp9DmQv87d+/n1atWv3Ua4ogIcgjgoQgV6aDxAOF86oULf/9TL8BpU6mMzIyIiQkRCbt+fPn3Lx5U5nFEARB+DE5cD8JpQaJKVOmpOm8lkgkuLq6KrMYgiAIPyYHBgmljm4KDQ2lRIkSMmklS5YkLCxMmcUQBEH4MWKBv6ylq6tL+L9bL34WHh6eZgKIIAhC9qSSgdefQalBol69ekyZMoWofzdXj4qKYtq0adJxvYIgCNlaDmxuUmqQGDlyJB8+fKBWrVrUq1ePWrVq8f79e5nFrQRBELKtHBgklL7HtUQi4e7du4SFhWFkZCR34kiGrieGwApyiCGwglyZHQL75rnCeVUMS3w/029A6b0wKioqVKlShWbNmlGpUiUOHz5M9+7dlV0MQRCEDFNRUVH49adQ6uimz16+fMm2bdvw9fXlw4cPtGjR4lcUQxAEIWNy4OgmpQaJ06dPs3XrVs6ePYuenh5RUVH4+vpSoYLi09cFQRB+mT+ohqAopYRFLy8v7OzsGDhwIBKJhKVLl3Lq1Cm0tbUxMDBQRhEEQRAyLwd2XCulJrFkyRL09PTw9vamTp06yrilIAhCFvhzPvwVpZSaxJQpUyhYsCC9e/emS5cu7N27l/j4eGXcWhAE4efJgTUJpQ6BvXHjBlu3buXIkSPkzp2buLg4fHx8qFat2g9fUwyBFeQRQ2AFuTI5BJaPrxXPm79Q5u6VTSh9ngTA+/fv8fX1ZceOHYSEhGBjY4OXl9cPXUsECUEeESQEuTIbJCLfKJ5XxzBz98omfsl4Lj09Pfr06cPRo0dZtWoVampqv6IYgiAIGSOam34/oiYhyCNqEoJcma1JRL1TPK92gczdK5v4JZPpBEEQfkt/UA1BUSJICIIgKEoECUEQBCFdOXBZjt++T0IQBEHIOjkvLAqCIAgKE0FCEARBSJcIEoIgCEK6RJAQBEEQ0iWChCAIgpAuESQEQRCEdIkgIQiCIKRLBAlBEAQhXSJICIIgCOkSQeIHOTs74+HhIX1vbm7OtWvXlFqGcePGMW7cOKXe82fq06fPD+8j8rvIyX8nYWFhmJubExYWlqk8wq/1xwUJZ2dnTE1NMTc3x8LCgpYtW7Jz584sv+/NmzextLRUKK+dnR27d+/O4hKlfjhUqFCBrVu3pklX9odGhQoVuHz5skyat7c3AwYMUGo5PhN/J/8ZN24clStXxtzcHHNzc5o0acKqVasyfd2iRYty8+ZNihYtCsDu3buxs7P7Zh4h+/njggRA//79uXnzJlevXqVv375MmjQpzQfUZ4mJiUounXLp6enh4eFBdHT0ry5KtiP+Tv7TqlUrbt68yY0bN5gyZQrLli1TSoASsr8/Mkh8pqamRuvWrdHV1SUgIABI/Ua7YcMGnJycqFq1KufOnSM+Pp5FixbRqFEjatSoQZcuXbh37570OklJScybN4+6detSq1YtFixYwNfrIn79Tfn69es4OztjZWVFzZo16dWrF5DaxBIWFsaUKVMwNzenffv2ACQnJ7N27Vrs7e2pXr06bdu25eLFizL38Pb2pkGDBlhaWjJhwgQSEhK++zOwsbHByMjom806kZGRTJkyBVtbW6ysrOjbty8hISHS458+fWL8+PFYWVlhbW3NunXrZL7lxsfHM2zYMOrVq4e5uTktW7bk0KFD0vNbtGgBQN++fTE3N2fYsGGAbFPM8OHDcXV1lSnXpUuXMDc3lwa4x48f079/f+rUqYO1tTVTp04lJibmuz+D7xF/J/9RUVGhbt26lC1bVvqzuHbtGh07dsTS0pLGjRuzatUqkpOTAUhISGDq1KnUrVsXc3Nz7Ozs8PHxAeDFixdUqFCBFy9ecO3aNaZMmSJtXjI3N+f48eMyeT58+ICZmRk3b96UKdPYsWP5+++/pe/37t2Lg4MD1atXp0WLFhw8eFDh5xN+gOQP07VrV4m7u7tEIpFIEhMTJXv27JFUqFBBcuXKFYlEIpGUL19eYm9vL3n06JEkJSVFEhsbKxk7dqykV69eklevXkkSExMlmzZtktSqVUvy8eNHiUQikXh6ekrs7Owkjx49ksTHx0vc3d0llSpVkt7n83UvXbokkUgkkvv370tMTU0lW7dulcTGxkri4+Ml586dk+a1tbWV+Pr6ypTb3d1d4ujoKHny5IkkOTlZcvToUUm1atUkwcHBEolEItm3b5+kRo0akps3b0oSExMlO3bskFSqVEkyduzYdH8WY8eOlYwdO1Zy/fp1iZmZmSQkJEQmXSKRSFJSUiRdu3aVjB49WvL+/XtJfHy8ZP78+RJ7e3tJQkKCRCKRSCZOnChp37695NWrV5KYmBjJ5MmTJZUqVZI+Q2xsrGT37t2SyMhISWJiomT37t2SSpUqSR49eiT35yPvd3XmzBmJhYWFJCYmRnp81KhRknHjxkkkEonk3bt3EisrK8mGDRsk8fHxknfv3kl69OghmThxYrrP/y3i7+Q/X/49JCcnS86ePSsxNTWV7NmzR/LixQtJlSpVJFu2bJEkJCRIAgMDJTY2NpK1a9dKJBKJZPv27ZLWrVtL3r17J5FIJJLw8HCJv7+/RCKRSEJCQiTly5eX/t35+vpKbG1tZe79dZ4RI0bI/E6joqIkVatWlf5ePl/j7t27kuTkZMnVq1clFhYWkqtXr37r1y1kwh9Zk1i1ahWWlpbUrVuXjRs3MmfOHGrUqCE93rNnT4yNjVFRUSE2NpY9e/YwZcoUChUqRK5cuejSpQu6urqcPHkSSG1L7d27N8bGxmhoaDB48GD09PTSvf/WrVuxtramY8eOaGpqoqGhQd26db9Z5vXr1/P3339TunRpVFVVady4MdWrV+fAgQPSMjg5OVGtWjVy5cqFk5MTlSpVUujnYWFhQcOGDVmwYEGaY/fu3ePWrVtMmzYNXV1dNDQ0GDFiBC9fvuT27dukpKTg5+fHsGHDKFSoEHny5GHs2LEy19DU1KRNmzZoa2uTK1cu2rRpg7GxcbpNN/LUrVsXHR0djhw5AqTWbo4ePSr9Bu3n50eZMmXo1q0bGhoa6Ovr4+Liwt69e6XfajNK/J3858CBA1haWlK7dm3mzp3LiBEjcHR05MCBA5QrV45OnTqhrq6OiYkJffr0Yfv27QCoq6sTExPD48ePSUxMxNDQkMqVK3/3fulp3749hw4dktYQDxw4QKFChaS/l3Xr1jFw4EBMTU1RVVXF0tKSli1bsmfPnh++p/Btf+SmQ/369WPo0KHpHi9WrJj0/58/fw5A27ZtZfIkJiby+vVrAF69eiVzjqqq6jc72kJDQylXrpzC5X379i3R0dEMHjwYVdX/4nZSUhJGRkbSMjRp0iTd5/ie0aNHY29vz40bN2TSg4ODSUxMxNraWiY9OTmZV69eERERQUJCgrQcAPny5UNXV1f6PiEhgQULFnDy5EnevXuHqqoqMTExREREKFw+VVVV2rZty65du3B0dGT//v0YGRlRvXp1AJ49e8adO3dkOn0lEgkqKiq8ffuWQoUKKXyvz8TfyX9atmzJnDlz0qS/fPmS4sVl9wsvUaIEL1++BMDBwYGIiAjmzZvHkydPsLCwYMSIEQp/gfla7dq10dPT4/Dhw7Rr145du3bRrl076fHg4GBmzZrF3LlzpWnJyckKDwYQMu6PDBLf8+U/MAMDAwAOHjyY7gdN4cKFCQ0Nlb5PSUn55pA9IyMjnj17lu5xla+2QNTR0SF37tx4e3tjYWGhUBkg9UOmTJky6d7n6zL16NGD2bNnU6ZMGWkZDAwM0NTU5NKlS+TKlfbPISUlBQ0NDZl7xcTE8OHDB2metWvXcu7cOby9vSlRogQqKio4ODjItMd//czytG3bFk9PT4KDg/H19ZXWIgAMDQ2pWbMma9euVeh5f4ac+HfytSJFikj7Jj4LCQmhSJEiQGp/Tu/evenduzefPn3C3d2dwYMHS2tXX/ry55keFRUV2rZti6+vL2ZmZgQGBuLp6Sk9bmBgwIgRI2jVqtUPPY+QcX9kc1NGGBkZ0ahRI9zc3KT/uKKjozl9+jTh4eEAODo6smbNGp48eUJCQgIrVqzg/fv36V6zU6dOnDlzhh07dhAfH09CQgIXLlyQHjc0NOTp06fS9xoaGnTs2JF58+bx+PFjJBIJcXFxXL16VZrP0dGRnTt3cufOHZKSkvD19U3zj/d7+vXrR1hYGKdPn5amVa9enTJlyuDm5sa7d+8A+PjxI0eOHCE2NhZVVVUcHBzw8PAgPDyc2NhYmW9xAFFRUWhoaKCnp0dSUhJbtmzh0aNHMnkMDAxknlkeIyMjateuzaxZs3jw4AGOjo7SY23btsXf35+tW7cSGxuLRCLh5cuXHD9+PEM/gx+Vk/5OvtSiRQsePHjA9u3bSUxM5MGDB3h7e+Pk5ATAxYsXuXv3LgkJCeTOnZu8efOmGwwMDAyIiIjg48eP37xnu3btuHXrFgsXLsTGxgZDQ0Ppse7du7Ns2TLu3r1LSkoKCQkJ3LlzB39//x9+RuHbcnyQAFi4cCEVK1akV69emJub06xZM3bu3Cn9Jty3b18aNWpE165dqV+/PrGxsZibm6d7vfLly7Nu3Tr8/PyoV68e1tbWrFmzRnp80KBBHDlyhBo1atCxY0cgdQSHvb09w4cPx9LSEjs7O1auXElSUhKQWq3v3bs3Q4cOpVatWly/fp2mTZtm6Dm1tLRwcXGR+eBSU1Nj3bp15M6dGycnJ8zNzWndujXHjh2TfpMdP348ZcqUoWXLljRp0oRSpUqhr69P7ty5AejVqxcFChTAxsYGW1tbXr9+neab7qhRo/Dy8qJGjRqMGDEi3TK2a9eOU6dOYWtrS4ECBaTpRYsWZevWrZw7d47GjRtjaWlJ7969uX//foZ+BpmRU/5OvlSsWDG8vb3ZvXs3tWrVYtCgQXTo0IEePXoAEBERIR35Vrt2ba5evcqSJUvkXqtWrVrY2NjQpEkTLC0tOXHihNx8hQsXpm7dupw6dUqmNgmpQWLw4MFMmTKFmjVrYm1tzfz584mNjf3hZxS+TexxLWRYVFQUNWvWZMuWLd/8EBQE4fcnahLCd30e556cnMyHDx9wc3OjRIkSmJmZ/eqiCYKQxXJkx7WQMQkJCbi5ufHixQs0NDQwMzPDy8tLbke3IAh/FtHcJAiCIKRLNDcJgiAI6RJBQhAEQUiXCBKCIAhCukSQEJTG2dmZiRMnpvtemT6vPprVGwBVqFABPz+/bHMdQcgoESRysM+bElWoUIFKlSpha2uLq6vrN2cJ/0weHh6MHz9e4fyNGzeW2eUtq3l4eNC4cWOl3U8QsiMxhjGHs7S0ZMmSJSQnJ+Pv78+kSZN49eqV3J3JJBIJSUlJqKur/5R7f7lIoCAI2ZOoSeRw6urqGBoaUrhwYRo1akT37t05e/YscXFx7N69m0qVKnHp0iUcHR0xMzPjwoULJCYm4uHhgZ2dHWZmZrRo0YJt27bJXDc0NJTevXtTpUoVbGxspBvRfElec9PmzZtp3rw5pqam1K5dW7pKq7OzM8+fP2fZsmXS2s+LFy+A1JVBhw4diqWlJTVq1KBXr15plus4dOgQjRs3xszMjI4dO/6U5TzOnz+Ps7MzNWvWpHr16nTt2pU7d+6kyffhwweGDh1KtWrVsLa2ZsOGDTLHP336xIwZM7C2tqZq1ao4Ojpy9OjRTJdPEH4GUZMQZGhqapKSkiJdCyglJYUFCxYwbtw4jIyMyJcvH5MnTyYgIIBp06ZRsmRJ7t69i6urK2pqajg5OSGRSBgyZAiqqqr4+PigoaHBvHnzCAgIoESJEune293dnXXr1jFq1Cjq1q1LTEwMZ86cAVKbftq2bUvTpk2lu7fp6+vz9u1bOnfuTKNGjdi8eTPq6ups3ryZbt26cfjwYfT19bl37x6jRo2iT58+tGnThkePHjFz5sxM/6xiYmLo1KkTJiYmJCcns379evr06cORI0dk9pFYvnw5Q4cOZeTIkZw5c4a5c+dKFwyUSCTSfb4XL15MoUKFuHDhAiNHjmT16tXUrl070+UUhMwQQUKQevToEZs3b6Zq1apoaWkBqU1M48aNk67XHxISwt69ezl48CDGxsYAFC9enCdPnrBp0yacnJy4ePEi9+7d459//qF06dJA6uJ4DRo0SPfeMTExeHt7M3z4cLp27SpN/7yBja6uLmpqauTNm1dmVdCtW7diZGSEm5ubNG3SpEmcPn2affv20aNHD9auXUvVqlUZNWoUAGXKlCE8PJzp06dn6uf1dX/F9OnTOXr0KGfPnsXBwUGabmNjg7OzMwClS5fmzp07rF27lkaNGnHlyhVu3brFhQsX0NbWBuCvv/7i1q1b+Pj4iCAh/HIiSORwV65cwdzcnOTkZBISEqhduzbTpk2TyfPlGk3+/v5IJJI0q3MmJSWhpqYGpAYbPT09aYCA1G/9X77/2qNHj4iPj//uzmxfu3v3LgEBAWkWGoyLiyM4OBhI3Ru7Vq1aMsc/b2aUGSEhIbi7u3Pr1i3evXuHRCIhNjY2zR4S1apVk3lvYWHB0qVLpeVPTEykfv36MnkSExMpWbJkpssoCJklgkQOV6VKFebOnYuamhoFCxZEQ0ND5riampp0SXBAuiz21q1byZMnj0xeRTYW+tlSUlKoVasWrq6uaY59/maeVQYMGICenh6urq4UKVIEdXV1OnfuTGJiosLXSElJQVtbm127dqU59rMGCAhCZoggkcNpampm6Bvr5+afly9fYmtrKzdP2bJlef/+Pc+ePaNUqVJA6r4DT58+xdTUVO45xsbG5M6dm/Pnz2NiYiI3j7q6epr9rE1NTdmzZw+FCxeWCWZfX/vmzZsyaV9v45pR79+/59GjR6xatUq69eurV6+kGzd96fbt23Tp0kXm3p+b6szMzIiMjCQ+Pp7y5ctnqkyCkBXE6CYhQ0qWLEm7du2YPHkye/fuJTg4mKCgIHbt2iUdNlu7dm1MTEwYM2YMd+7cITAwkDFjxnxz1dh8+fLRs2dPli1bxubNm3n69ClBQUGsXLlSmqdYsWLcuHGDsLAwIiIiSElJoWvXriQnJzNo0CCuXbsmXdZ88eLF0kDQo0cPbt26xeLFi3n69CnHjh1TeBvUxMREAgMDZV5BQUHkz58ffX19du7cydOnT7l58yYjR45EU1MzzTVOnTrFpk2bePbsGT4+Phw+fFja+V6rVi3q1KnD0KFDOX78OCEhIfj7++Pj48OOHTsU/r0IQlYRNQkhw6ZPn87atWvx8vLixYsX5MuXj3Llykm/LauoqLB8+XJcXV3p0qULenp69O7dm4SEhG9e18XFBX19fTZu3Mjs2bPR0dGR2eB+6NChuLq60qxZM+Lj4zlx4gTFihVj+/btLFq0iCFDhhAdHY2hoSHVq1eXdnCbmpqycOFCFi9ezJo1a6hYsSLjx49n8ODB333Wly9fymyjCqnbiN69e5elS5cyY8YMHBwcKFq0KCNHjmTBggVprjFo0CAuXLjA/Pnz0dbWZsyYMdJObxUVFTw9PVm2bBmzZs0iPDyc/PnzY2JiQp8+fb5bPkHIamKpcEEQBCFdorlJEARBSJcIEoIgCEK6RJAQBEEQ0iWChCAIgpAuESQEQRCEdIkgIQiCIKRLBAlBEAQhXSJICIIgCOkSQUIQBEFI1/8BFR1qgr80DNQAAAAASUVORK5CYII=\n",
       "datasetInfos": [],
       "metadata": {},
       "removedWidgets": [],
       "type": "image"
      }
     },
     "output_type": "display_data"
    }
   ],
   "source": [
    "# Create seaborn heatmap\n",
    "heatmap = sns.heatmap(confusion_matrix_values, annot=labels, fmt='', cmap='Reds', cbar=True,\n",
    "                      xticklabels=['Predicted Negative', 'Predicted Positive'],\n",
    "                      yticklabels=['Actual Negative', 'Actual Positive'])\n",
    "\n",
    "# Set heatmap labels and title\n",
    "plt.xlabel('Predicted Label')\n",
    "plt.ylabel('True Label')\n",
    "plt.title('Confusion Matrix Heatmap')\n",
    "\n",
    "# Display the heatmap\n",
    "plt.show()\n"
   ]
  }
 ],
 "metadata": {
  "application/vnd.databricks.v1+notebook": {
   "dashboards": [],
   "environmentMetadata": null,
   "language": "python",
   "notebookMetadata": {
    "pythonIndentUnit": 4
   },
   "notebookName": "ccbd-exam-2024-asad-aslam-databricks",
   "widgets": {}
  }
 },
 "nbformat": 4,
 "nbformat_minor": 0
}
